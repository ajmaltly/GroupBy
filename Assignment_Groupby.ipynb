{
  "nbformat": 4,
  "nbformat_minor": 0,
  "metadata": {
    "colab": {
      "name": "Assignment Groupby.ipynb",
      "provenance": []
    },
    "kernelspec": {
      "name": "python3",
      "display_name": "Python 3"
    },
    "language_info": {
      "name": "python"
    }
  },
  "cells": [
    {
      "cell_type": "markdown",
      "source": [
        "1 Write a Pandas program to split the following dataframe into groups based on school code. Also check the type of GroupBy object."
      ],
      "metadata": {
        "id": "h75_gqAKdyC0"
      }
    },
    {
      "cell_type": "code",
      "execution_count": 1,
      "metadata": {
        "colab": {
          "base_uri": "https://localhost:8080/"
        },
        "id": "FuiqT58gdl7W",
        "outputId": "685bca2c-f500-4d7d-c082-73049f9fc537"
      },
      "outputs": [
        {
          "output_type": "stream",
          "name": "stdout",
          "text": [
            "Original DataFrame:\n",
            "   school_code class            name date_Of_Birth   age  height  weight  \\\n",
            "S1        s001     V  Alberto Franco     15/05/2002   12     173      35   \n",
            "S2        s002     V    Gino Mcneill     17/05/2002   12     192      32   \n",
            "S3        s003    VI     Ryan Parkes     16/02/1999   13     186      33   \n",
            "S4        s001    VI    Eesha Hinton     25/09/1998   13     167      30   \n",
            "S5        s002     V    Gino Mcneill     11/05/2002   14     151      31   \n",
            "S6        s004    VI    David Parkes     15/09/1997   12     159      32   \n",
            "\n",
            "    address  \n",
            "S1  street1  \n",
            "S2  street2  \n",
            "S3  street3  \n",
            "S4  street1  \n",
            "S5  street2  \n",
            "S6  street4  \n",
            "\n",
            "Split the said data on school_code wise:\n",
            "\n",
            "Group:\n",
            "s001\n",
            "   school_code class            name date_Of_Birth   age  height  weight  \\\n",
            "S1        s001     V  Alberto Franco     15/05/2002   12     173      35   \n",
            "S4        s001    VI    Eesha Hinton     25/09/1998   13     167      30   \n",
            "\n",
            "    address  \n",
            "S1  street1  \n",
            "S4  street1  \n",
            "\n",
            "Group:\n",
            "s002\n",
            "   school_code class          name date_Of_Birth   age  height  weight  \\\n",
            "S2        s002     V  Gino Mcneill     17/05/2002   12     192      32   \n",
            "S5        s002     V  Gino Mcneill     11/05/2002   14     151      31   \n",
            "\n",
            "    address  \n",
            "S2  street2  \n",
            "S5  street2  \n",
            "\n",
            "Group:\n",
            "s003\n",
            "   school_code class         name date_Of_Birth   age  height  weight  address\n",
            "S3        s003    VI  Ryan Parkes     16/02/1999   13     186      33  street3\n",
            "\n",
            "Group:\n",
            "s004\n",
            "   school_code class          name date_Of_Birth   age  height  weight  \\\n",
            "S6        s004    VI  David Parkes     15/09/1997   12     159      32   \n",
            "\n",
            "    address  \n",
            "S6  street4  \n",
            "\n",
            "Type of the object:\n",
            "<class 'pandas.core.groupby.generic.DataFrameGroupBy'>\n"
          ]
        }
      ],
      "source": [
        "import pandas as pd\n",
        "pd.set_option('display.max_rows', None)\n",
        "#pd.set_option('display.max_columns', None)\n",
        "student_data = pd.DataFrame({\n",
        "    'school_code': ['s001','s002','s003','s001','s002','s004'],\n",
        "    'class': ['V', 'V', 'VI', 'VI', 'V', 'VI'],\n",
        "    'name': ['Alberto Franco','Gino Mcneill','Ryan Parkes', 'Eesha Hinton', 'Gino Mcneill', 'David Parkes'],\n",
        "    'date_Of_Birth ': ['15/05/2002','17/05/2002','16/02/1999','25/09/1998','11/05/2002','15/09/1997'],\n",
        "    'age': [12, 12, 13, 13, 14, 12],\n",
        "    'height': [173, 192, 186, 167, 151, 159],\n",
        "    'weight': [35, 32, 33, 30, 31, 32],\n",
        "    'address': ['street1', 'street2', 'street3', 'street1', 'street2', 'street4']},\n",
        "    index=['S1', 'S2', 'S3', 'S4', 'S5', 'S6'])\n",
        "\n",
        "print(\"Original DataFrame:\")\n",
        "print(student_data)\n",
        "print('\\nSplit the said data on school_code wise:')\n",
        "result = student_data.groupby(['school_code'])\n",
        "for name,group in result:\n",
        "    print(\"\\nGroup:\")\n",
        "    print(name)\n",
        "    print(group)\n",
        "print(\"\\nType of the object:\")\n",
        "print(type(result))"
      ]
    },
    {
      "cell_type": "markdown",
      "source": [
        "2 Write a Pandas program to split the following dataframe by school code and get mean, min, and max value of age for each school."
      ],
      "metadata": {
        "id": "3LP_7en2d10g"
      }
    },
    {
      "cell_type": "code",
      "source": [
        "import pandas as pd\n",
        "pd.set_option('display.max_rows', None)\n",
        "#pd.set_option('display.max_columns', None)\n",
        "student_data = pd.DataFrame({\n",
        "    'school_code': ['s001','s002','s003','s001','s002','s004'],\n",
        "    'class': ['V', 'V', 'VI', 'VI', 'V', 'VI'],\n",
        "    'name': ['Alberto Franco','Gino Mcneill','Ryan Parkes', 'Eesha Hinton', 'Gino Mcneill', 'David Parkes'],\n",
        "    'date_Of_Birth ': ['15/05/2002','17/05/2002','16/02/1999','25/09/1998','11/05/2002','15/09/1997'],\n",
        "    'age': [12, 12, 13, 13, 14, 12],\n",
        "    'height': [173, 192, 186, 167, 151, 159],\n",
        "    'weight': [35, 32, 33, 30, 31, 32],\n",
        "    'address': ['street1', 'street2', 'street3', 'street1', 'street2', 'street4']},\n",
        "    index=['S1', 'S2', 'S3', 'S4', 'S5', 'S6'])\n",
        "\n",
        "print(\"Original DataFrame:\")\n",
        "print(student_data)\n",
        "print('\\nMean, min, and max value of age for each value of the school:')\n",
        "grouped_single = student_data.groupby('school_code').agg({'age': ['mean', 'min', 'max']})\n",
        "print(grouped_single)"
      ],
      "metadata": {
        "colab": {
          "base_uri": "https://localhost:8080/"
        },
        "id": "krd47icEeDEQ",
        "outputId": "4163f7e9-596c-4ff5-bf69-e158a3e12e9f"
      },
      "execution_count": 2,
      "outputs": [
        {
          "output_type": "stream",
          "name": "stdout",
          "text": [
            "Original DataFrame:\n",
            "   school_code class            name date_Of_Birth   age  height  weight  \\\n",
            "S1        s001     V  Alberto Franco     15/05/2002   12     173      35   \n",
            "S2        s002     V    Gino Mcneill     17/05/2002   12     192      32   \n",
            "S3        s003    VI     Ryan Parkes     16/02/1999   13     186      33   \n",
            "S4        s001    VI    Eesha Hinton     25/09/1998   13     167      30   \n",
            "S5        s002     V    Gino Mcneill     11/05/2002   14     151      31   \n",
            "S6        s004    VI    David Parkes     15/09/1997   12     159      32   \n",
            "\n",
            "    address  \n",
            "S1  street1  \n",
            "S2  street2  \n",
            "S3  street3  \n",
            "S4  street1  \n",
            "S5  street2  \n",
            "S6  street4  \n",
            "\n",
            "Mean, min, and max value of age for each value of the school:\n",
            "              age        \n",
            "             mean min max\n",
            "school_code              \n",
            "s001         12.5  12  13\n",
            "s002         13.0  12  14\n",
            "s003         13.0  13  13\n",
            "s004         12.0  12  12\n"
          ]
        }
      ]
    },
    {
      "cell_type": "markdown",
      "source": [
        "3 Write a Pandas program to split the following given dataframe into groups based on school code and class."
      ],
      "metadata": {
        "id": "Q0sDP3fveGEY"
      }
    },
    {
      "cell_type": "code",
      "source": [
        "import pandas as pd\n",
        "pd.set_option('display.max_rows', None)\n",
        "#pd.set_option('display.max_columns', None)\n",
        "student_data = pd.DataFrame({\n",
        "    'school_code': ['s001','s002','s003','s001','s002','s004'],\n",
        "    'class': ['V', 'V', 'VI', 'VI', 'V', 'VI'],\n",
        "    'name': ['Alberto Franco','Gino Mcneill','Ryan Parkes', 'Eesha Hinton', 'Gino Mcneill', 'David Parkes'],\n",
        "    'date_Of_Birth ': ['15/05/2002','17/05/2002','16/02/1999','25/09/1998','11/05/2002','15/09/1997'],\n",
        "    'age': [12, 12, 13, 13, 14, 12],\n",
        "    'height': [173, 192, 186, 167, 151, 159],\n",
        "    'weight': [35, 32, 33, 30, 31, 32],\n",
        "    'address': ['street1', 'street2', 'street3', 'street1', 'street2', 'street4']},\n",
        "    index=['S1', 'S2', 'S3', 'S4', 'S5', 'S6'])\n",
        "print(\"Original DataFrame:\")\n",
        "print(student_data)\n",
        "print('\\nSplit the said data on school_code, class wise:')\n",
        "result = student_data.groupby(['school_code', 'class'])\n",
        "for name,group in result:\n",
        "    print(\"\\nGroup:\")\n",
        "    print(name)\n",
        "    print(group)"
      ],
      "metadata": {
        "colab": {
          "base_uri": "https://localhost:8080/"
        },
        "id": "Q7ywDzHJeL0p",
        "outputId": "c32fd8cc-2063-4d8c-9c27-6d85e47a458a"
      },
      "execution_count": 3,
      "outputs": [
        {
          "output_type": "stream",
          "name": "stdout",
          "text": [
            "Original DataFrame:\n",
            "   school_code class            name date_Of_Birth   age  height  weight  \\\n",
            "S1        s001     V  Alberto Franco     15/05/2002   12     173      35   \n",
            "S2        s002     V    Gino Mcneill     17/05/2002   12     192      32   \n",
            "S3        s003    VI     Ryan Parkes     16/02/1999   13     186      33   \n",
            "S4        s001    VI    Eesha Hinton     25/09/1998   13     167      30   \n",
            "S5        s002     V    Gino Mcneill     11/05/2002   14     151      31   \n",
            "S6        s004    VI    David Parkes     15/09/1997   12     159      32   \n",
            "\n",
            "    address  \n",
            "S1  street1  \n",
            "S2  street2  \n",
            "S3  street3  \n",
            "S4  street1  \n",
            "S5  street2  \n",
            "S6  street4  \n",
            "\n",
            "Split the said data on school_code, class wise:\n",
            "\n",
            "Group:\n",
            "('s001', 'V')\n",
            "   school_code class            name date_Of_Birth   age  height  weight  \\\n",
            "S1        s001     V  Alberto Franco     15/05/2002   12     173      35   \n",
            "\n",
            "    address  \n",
            "S1  street1  \n",
            "\n",
            "Group:\n",
            "('s001', 'VI')\n",
            "   school_code class          name date_Of_Birth   age  height  weight  \\\n",
            "S4        s001    VI  Eesha Hinton     25/09/1998   13     167      30   \n",
            "\n",
            "    address  \n",
            "S4  street1  \n",
            "\n",
            "Group:\n",
            "('s002', 'V')\n",
            "   school_code class          name date_Of_Birth   age  height  weight  \\\n",
            "S2        s002     V  Gino Mcneill     17/05/2002   12     192      32   \n",
            "S5        s002     V  Gino Mcneill     11/05/2002   14     151      31   \n",
            "\n",
            "    address  \n",
            "S2  street2  \n",
            "S5  street2  \n",
            "\n",
            "Group:\n",
            "('s003', 'VI')\n",
            "   school_code class         name date_Of_Birth   age  height  weight  address\n",
            "S3        s003    VI  Ryan Parkes     16/02/1999   13     186      33  street3\n",
            "\n",
            "Group:\n",
            "('s004', 'VI')\n",
            "   school_code class          name date_Of_Birth   age  height  weight  \\\n",
            "S6        s004    VI  David Parkes     15/09/1997   12     159      32   \n",
            "\n",
            "    address  \n",
            "S6  street4  \n"
          ]
        }
      ]
    },
    {
      "cell_type": "markdown",
      "source": [
        "4 Write a Pandas program to split the following given dataframe into groups based on school code and cast grouping as a list."
      ],
      "metadata": {
        "id": "V7CWDXNgeS94"
      }
    },
    {
      "cell_type": "code",
      "source": [
        "import pandas as pd\n",
        "pd.set_option('display.max_rows', None)\n",
        "#pd.set_option('display.max_columns', None)\n",
        "student_data = pd.DataFrame({\n",
        "    'school_code': ['s001','s002','s003','s001','s002','s004'],\n",
        "    'class': ['V', 'V', 'VI', 'VI', 'V', 'VI'],\n",
        "    'name': ['Alberto Franco','Gino Mcneill','Ryan Parkes', 'Eesha Hinton', 'Gino Mcneill', 'David Parkes'],\n",
        "    'date_Of_Birth ': ['15/05/2002','17/05/2002','16/02/1999','25/09/1998','11/05/2002','15/09/1997'],\n",
        "    'age': [12, 12, 13, 13, 14, 12],\n",
        "    'height': [173, 192, 186, 167, 151, 159],\n",
        "    'weight': [35, 32, 33, 30, 31, 32],\n",
        "    'address': ['street1', 'street2', 'street3', 'street1', 'street2', 'street4']},\n",
        "    index=['S1', 'S2', 'S3', 'S4', 'S5', 'S6'])\n",
        "print(\"Original DataFrame:\")\n",
        "print(student_data)\n",
        "print('\\nCast grouping as a list:')\n",
        "result = student_data.groupby(['school_code'])\n",
        "print(list(result))"
      ],
      "metadata": {
        "colab": {
          "base_uri": "https://localhost:8080/"
        },
        "id": "SpsUEGL6eVkk",
        "outputId": "4daef808-e1d5-4eb4-f68a-3ef2811f49f7"
      },
      "execution_count": 4,
      "outputs": [
        {
          "output_type": "stream",
          "name": "stdout",
          "text": [
            "Original DataFrame:\n",
            "   school_code class            name date_Of_Birth   age  height  weight  \\\n",
            "S1        s001     V  Alberto Franco     15/05/2002   12     173      35   \n",
            "S2        s002     V    Gino Mcneill     17/05/2002   12     192      32   \n",
            "S3        s003    VI     Ryan Parkes     16/02/1999   13     186      33   \n",
            "S4        s001    VI    Eesha Hinton     25/09/1998   13     167      30   \n",
            "S5        s002     V    Gino Mcneill     11/05/2002   14     151      31   \n",
            "S6        s004    VI    David Parkes     15/09/1997   12     159      32   \n",
            "\n",
            "    address  \n",
            "S1  street1  \n",
            "S2  street2  \n",
            "S3  street3  \n",
            "S4  street1  \n",
            "S5  street2  \n",
            "S6  street4  \n",
            "\n",
            "Cast grouping as a list:\n",
            "[('s001',    school_code class            name date_Of_Birth   age  height  weight  \\\n",
            "S1        s001     V  Alberto Franco     15/05/2002   12     173      35   \n",
            "S4        s001    VI    Eesha Hinton     25/09/1998   13     167      30   \n",
            "\n",
            "    address  \n",
            "S1  street1  \n",
            "S4  street1  ), ('s002',    school_code class          name date_Of_Birth   age  height  weight  \\\n",
            "S2        s002     V  Gino Mcneill     17/05/2002   12     192      32   \n",
            "S5        s002     V  Gino Mcneill     11/05/2002   14     151      31   \n",
            "\n",
            "    address  \n",
            "S2  street2  \n",
            "S5  street2  ), ('s003',    school_code class         name date_Of_Birth   age  height  weight  address\n",
            "S3        s003    VI  Ryan Parkes     16/02/1999   13     186      33  street3), ('s004',    school_code class          name date_Of_Birth   age  height  weight  \\\n",
            "S6        s004    VI  David Parkes     15/09/1997   12     159      32   \n",
            "\n",
            "    address  \n",
            "S6  street4  )]\n"
          ]
        }
      ]
    },
    {
      "cell_type": "markdown",
      "source": [
        "5 Write a Pandas program to split the following given dataframe into groups based on single column and multiple columns. Find the size of the grouped data."
      ],
      "metadata": {
        "id": "EBRgk5IAedNu"
      }
    },
    {
      "cell_type": "code",
      "source": [
        "import pandas as pd\n",
        "pd.set_option('display.max_rows', None)\n",
        "#pd.set_option('display.max_columns', None)\n",
        "student_data = pd.DataFrame({\n",
        "    'school_code': ['s001','s002','s003','s001','s002','s004'],\n",
        "    'class': ['V', 'V', 'VI', 'VI', 'V', 'VI'],\n",
        "    'name': ['Alberto Franco','Gino Mcneill','Ryan Parkes', 'Eesha Hinton', 'Gino Mcneill', 'David Parkes'],\n",
        "    'date_Of_Birth ': ['15/05/2002','17/05/2002','16/02/1999','25/09/1998','11/05/2002','15/09/1997'],\n",
        "    'age': [12, 12, 13, 13, 14, 12],\n",
        "    'height': [173, 192, 186, 167, 151, 159],\n",
        "    'weight': [35, 32, 33, 30, 31, 32],\n",
        "    'address': ['street1', 'street2', 'street3', 'street1', 'street2', 'street4']},\n",
        "    index=['S1', 'S2', 'S3', 'S4', 'S5', 'S6'])\n",
        "\n",
        "print(\"Original DataFrame:\")\n",
        "print(student_data)\n",
        "print('\\nSplit the said data on school_code wise:')\n",
        "grouped_single = student_data.groupby(['school_code'])\n",
        "print(\"Size of the grouped data - single column\")\n",
        "print(grouped_single.size())\n",
        "print('\\nSplit the said data on school_code and class wise:')\n",
        "\n",
        "grouped_mul = student_data.groupby(['school_code', 'class'])\n",
        "print(\"Size of the grouped data - multiple columns:\")\n",
        "print(grouped_mul.size())"
      ],
      "metadata": {
        "colab": {
          "base_uri": "https://localhost:8080/"
        },
        "id": "_1v747YreeBZ",
        "outputId": "86df204a-4565-4d5d-b879-e9914bbc401b"
      },
      "execution_count": 5,
      "outputs": [
        {
          "output_type": "stream",
          "name": "stdout",
          "text": [
            "Original DataFrame:\n",
            "   school_code class            name date_Of_Birth   age  height  weight  \\\n",
            "S1        s001     V  Alberto Franco     15/05/2002   12     173      35   \n",
            "S2        s002     V    Gino Mcneill     17/05/2002   12     192      32   \n",
            "S3        s003    VI     Ryan Parkes     16/02/1999   13     186      33   \n",
            "S4        s001    VI    Eesha Hinton     25/09/1998   13     167      30   \n",
            "S5        s002     V    Gino Mcneill     11/05/2002   14     151      31   \n",
            "S6        s004    VI    David Parkes     15/09/1997   12     159      32   \n",
            "\n",
            "    address  \n",
            "S1  street1  \n",
            "S2  street2  \n",
            "S3  street3  \n",
            "S4  street1  \n",
            "S5  street2  \n",
            "S6  street4  \n",
            "\n",
            "Split the said data on school_code wise:\n",
            "Size of the grouped data - single column\n",
            "school_code\n",
            "s001    2\n",
            "s002    2\n",
            "s003    1\n",
            "s004    1\n",
            "dtype: int64\n",
            "\n",
            "Split the said data on school_code and class wise:\n",
            "Size of the grouped data - multiple columns:\n",
            "school_code  class\n",
            "s001         V        1\n",
            "             VI       1\n",
            "s002         V        2\n",
            "s003         VI       1\n",
            "s004         VI       1\n",
            "dtype: int64\n"
          ]
        }
      ]
    },
    {
      "cell_type": "markdown",
      "source": [
        "6 Write a Pandas program to split the following given dataframe into groups based on school code and call a specific group with the name of the group"
      ],
      "metadata": {
        "id": "8bhamdCreh-b"
      }
    },
    {
      "cell_type": "code",
      "source": [
        "import pandas as pd\n",
        "pd.set_option('display.max_rows', None)\n",
        "#pd.set_option('display.max_columns', None)\n",
        "student_data = pd.DataFrame({\n",
        "    'school_code': ['s001','s002','s003','s001','s002','s004'],\n",
        "    'class': ['V', 'V', 'VI', 'VI', 'V', 'VI'],\n",
        "    'name': ['Alberto Franco','Gino Mcneill','Ryan Parkes', 'Eesha Hinton', 'Gino Mcneill', 'David Parkes'],\n",
        "    'date_Of_Birth ': ['15/05/2002','17/05/2002','16/02/1999','25/09/1998','11/05/2002','15/09/1997'],\n",
        "    'age': [12, 12, 13, 13, 14, 12],\n",
        "    'height': [173, 192, 186, 167, 151, 159],\n",
        "    'weight': [35, 32, 33, 30, 31, 32],\n",
        "    'address': ['street1', 'street2', 'street3', 'street1', 'street2', 'street4']},\n",
        "    index=['S1', 'S2', 'S3', 'S4', 'S5', 'S6'])\n",
        "\n",
        "print(\"Original DataFrame:\")\n",
        "print(student_data)\n",
        "print('\\nSplit the said data on school_code wise:')\n",
        "grouped = student_data.groupby(['school_code'])\n",
        "print(\"Call school code 's001':\")\n",
        "print(grouped.get_group('s001'))\n",
        "print(\"\\nCall school code 's004':\")\n",
        "print(grouped.get_group('s004'))"
      ],
      "metadata": {
        "colab": {
          "base_uri": "https://localhost:8080/"
        },
        "id": "GhKiDLKee43f",
        "outputId": "eb6f8ee3-9f37-4f6b-cc73-a4ccbccd0b99"
      },
      "execution_count": 6,
      "outputs": [
        {
          "output_type": "stream",
          "name": "stdout",
          "text": [
            "Original DataFrame:\n",
            "   school_code class            name date_Of_Birth   age  height  weight  \\\n",
            "S1        s001     V  Alberto Franco     15/05/2002   12     173      35   \n",
            "S2        s002     V    Gino Mcneill     17/05/2002   12     192      32   \n",
            "S3        s003    VI     Ryan Parkes     16/02/1999   13     186      33   \n",
            "S4        s001    VI    Eesha Hinton     25/09/1998   13     167      30   \n",
            "S5        s002     V    Gino Mcneill     11/05/2002   14     151      31   \n",
            "S6        s004    VI    David Parkes     15/09/1997   12     159      32   \n",
            "\n",
            "    address  \n",
            "S1  street1  \n",
            "S2  street2  \n",
            "S3  street3  \n",
            "S4  street1  \n",
            "S5  street2  \n",
            "S6  street4  \n",
            "\n",
            "Split the said data on school_code wise:\n",
            "Call school code 's001':\n",
            "   school_code class            name date_Of_Birth   age  height  weight  \\\n",
            "S1        s001     V  Alberto Franco     15/05/2002   12     173      35   \n",
            "S4        s001    VI    Eesha Hinton     25/09/1998   13     167      30   \n",
            "\n",
            "    address  \n",
            "S1  street1  \n",
            "S4  street1  \n",
            "\n",
            "Call school code 's004':\n",
            "   school_code class          name date_Of_Birth   age  height  weight  \\\n",
            "S6        s004    VI  David Parkes     15/09/1997   12     159      32   \n",
            "\n",
            "    address  \n",
            "S6  street4  \n"
          ]
        }
      ]
    },
    {
      "cell_type": "markdown",
      "source": [
        "7 Write a Pandas program to split a dataset, group by one column and get mean, min, and max values by group. Using the following dataset find the mean, min, and max values of purchase amount (purch_amt) group by customer id (customer_id)."
      ],
      "metadata": {
        "id": "ov6v2za4fAk6"
      }
    },
    {
      "cell_type": "code",
      "source": [
        "import pandas as pd\n",
        "pd.set_option('display.max_rows', None)\n",
        "#pd.set_option('display.max_columns', None)\n",
        "orders_data = pd.DataFrame({\n",
        "'ord_no':[70001,70009,70002,70004,70007,70005,70008,70010,70003,70012,70011,70013],\n",
        "'purch_amt':[150.5,270.65,65.26,110.5,948.5,2400.6,5760,1983.43,2480.4,250.45, 75.29,3045.6],\n",
        "'ord_date': ['2012-10-05','2012-09-10','2012-10-05','2012-08-17','2012-09-10','2012-07-27','2012-09-10','2012-10-10','2012-10-10','2012-06-27','2012-08-17','2012-04-25'],\n",
        "'customer_id':[3005,3001,3002,3009,3005,3007,3002,3004,3009,3008,3003,3002],\n",
        "'salesman_id': [5002,5005,5001,5003,5002,5001,5001,5006,5003,5002,5007,5001]})\n",
        "print(\"Original Orders DataFrame:\")\n",
        "print(orders_data)\n",
        "result = orders_data.groupby('customer_id').agg({'purch_amt': ['mean', 'min', 'max']})\n",
        "print(\"\\nMean, min, and max values of purchase amount (purch_amt) group by customer id  (customer_id).\")\n",
        "print(result)"
      ],
      "metadata": {
        "colab": {
          "base_uri": "https://localhost:8080/"
        },
        "id": "6_iB0YILfKF8",
        "outputId": "3e407766-3071-4a82-b423-78e41221eb34"
      },
      "execution_count": 7,
      "outputs": [
        {
          "output_type": "stream",
          "name": "stdout",
          "text": [
            "Original Orders DataFrame:\n",
            "    ord_no  purch_amt    ord_date  customer_id  salesman_id\n",
            "0    70001     150.50  2012-10-05         3005         5002\n",
            "1    70009     270.65  2012-09-10         3001         5005\n",
            "2    70002      65.26  2012-10-05         3002         5001\n",
            "3    70004     110.50  2012-08-17         3009         5003\n",
            "4    70007     948.50  2012-09-10         3005         5002\n",
            "5    70005    2400.60  2012-07-27         3007         5001\n",
            "6    70008    5760.00  2012-09-10         3002         5001\n",
            "7    70010    1983.43  2012-10-10         3004         5006\n",
            "8    70003    2480.40  2012-10-10         3009         5003\n",
            "9    70012     250.45  2012-06-27         3008         5002\n",
            "10   70011      75.29  2012-08-17         3003         5007\n",
            "11   70013    3045.60  2012-04-25         3002         5001\n",
            "\n",
            "Mean, min, and max values of purchase amount (purch_amt) group by customer id  (customer_id).\n",
            "               purch_amt                  \n",
            "                    mean      min      max\n",
            "customer_id                               \n",
            "3001          270.650000   270.65   270.65\n",
            "3002         2956.953333    65.26  5760.00\n",
            "3003           75.290000    75.29    75.29\n",
            "3004         1983.430000  1983.43  1983.43\n",
            "3005          549.500000   150.50   948.50\n",
            "3007         2400.600000  2400.60  2400.60\n",
            "3008          250.450000   250.45   250.45\n",
            "3009         1295.450000   110.50  2480.40\n"
          ]
        }
      ]
    },
    {
      "cell_type": "markdown",
      "source": [
        "8 Write a Pandas program to split a dataset to group by two columns and count by each row."
      ],
      "metadata": {
        "id": "KCkON96xfNln"
      }
    },
    {
      "cell_type": "code",
      "source": [
        "import pandas as pd\n",
        "pd.set_option('display.max_rows', None)\n",
        "#pd.set_option('display.max_columns', None)\n",
        "orders_data = pd.DataFrame({\n",
        "'ord_no':[70001,70009,70002,70004,70007,70005,70008,70010,70003,70012,70011,70013],\n",
        "'purch_amt':[150.5,270.65,65.26,110.5,948.5,2400.6,5760,1983.43,2480.4,250.45, 75.29,3045.6],\n",
        "'ord_date': ['2012-10-05','2012-09-10','2012-10-05','2012-08-17','2012-09-10','2012-07-27','2012-09-10','2012-10-10','2012-10-10','2012-06-27','2012-08-17','2012-04-25'],\n",
        "'customer_id':[3005,3001,3002,3009,3005,3007,3002,3004,3009,3008,3003,3002],\n",
        "'salesman_id': [5002,5005,5001,5003,5002,5001,5001,5006,5003,5002,5007,5001]})\n",
        "print(\"Original Orders DataFrame:\")\n",
        "print(orders_data)\n",
        "print(\"\\nGroup by two columns and count by each row:\")\n",
        "result = orders_data.groupby(['salesman_id','customer_id']).size().reset_index().groupby(['salesman_id','customer_id'])[[0]].max()\n",
        "print(result)"
      ],
      "metadata": {
        "colab": {
          "base_uri": "https://localhost:8080/"
        },
        "id": "euLRv7LhfMSI",
        "outputId": "5b3aad6b-9412-4c37-89e7-33299dc1c0b6"
      },
      "execution_count": 8,
      "outputs": [
        {
          "output_type": "stream",
          "name": "stdout",
          "text": [
            "Original Orders DataFrame:\n",
            "    ord_no  purch_amt    ord_date  customer_id  salesman_id\n",
            "0    70001     150.50  2012-10-05         3005         5002\n",
            "1    70009     270.65  2012-09-10         3001         5005\n",
            "2    70002      65.26  2012-10-05         3002         5001\n",
            "3    70004     110.50  2012-08-17         3009         5003\n",
            "4    70007     948.50  2012-09-10         3005         5002\n",
            "5    70005    2400.60  2012-07-27         3007         5001\n",
            "6    70008    5760.00  2012-09-10         3002         5001\n",
            "7    70010    1983.43  2012-10-10         3004         5006\n",
            "8    70003    2480.40  2012-10-10         3009         5003\n",
            "9    70012     250.45  2012-06-27         3008         5002\n",
            "10   70011      75.29  2012-08-17         3003         5007\n",
            "11   70013    3045.60  2012-04-25         3002         5001\n",
            "\n",
            "Group by two columns and count by each row:\n",
            "                         0\n",
            "salesman_id customer_id   \n",
            "5001        3002         3\n",
            "            3007         1\n",
            "5002        3005         2\n",
            "            3008         1\n",
            "5003        3009         2\n",
            "5005        3001         1\n",
            "5006        3004         1\n",
            "5007        3003         1\n"
          ]
        }
      ]
    },
    {
      "cell_type": "markdown",
      "source": [
        "9 Write a Pandas program to split a dataset to group by two columns and then sort the aggregated results within the groups. \n",
        "\n",
        "In the following dataset group on 'customer_id', 'salesman_id' and then sort sum of purch_amt within the groups."
      ],
      "metadata": {
        "id": "odbFBymVfdck"
      }
    },
    {
      "cell_type": "code",
      "source": [
        "import pandas as pd\n",
        "pd.set_option('display.max_rows', None)\n",
        "#pd.set_option('display.max_columns', None)\n",
        "df = pd.DataFrame({\n",
        "'ord_no':[70001,70009,70002,70004,70007,70005,70008,70010,70003,70012,70011,70013],\n",
        "'purch_amt':[150.5,270.65,65.26,110.5,948.5,2400.6,5760,1983.43,2480.4,250.45, 75.29,3045.6],\n",
        "'ord_date': ['2012-10-05','2012-09-10','2012-10-05','2012-08-17','2012-09-10','2012-07-27','2012-09-10','2012-10-10','2012-10-10','2012-06-27','2012-08-17','2012-04-25'],\n",
        "'customer_id':[3001,3001,3005,3001,3005,3001,3005,3001,3005,3001,3005,3005],\n",
        "'salesman_id': [5002,5005,5001,5003,5002,5001,5001,5006,5003,5002,5007,5001]})\n",
        "print(\"Original Orders DataFrame:\")\n",
        "print(df)\n",
        "df_agg = df.groupby(['customer_id','salesman_id']).agg({'purch_amt':sum})\n",
        "result = df_agg['purch_amt'].groupby(level=0, group_keys=False)\n",
        "print(\"\\nGroup on 'customer_id', 'salesman_id' and then sort sum of purch_amt within the groups:\")\n",
        "print(result.nlargest())"
      ],
      "metadata": {
        "colab": {
          "base_uri": "https://localhost:8080/"
        },
        "id": "kRPYmbcufiWo",
        "outputId": "95dede5e-c63c-4bad-ab6e-8a5e3a72cc64"
      },
      "execution_count": 9,
      "outputs": [
        {
          "output_type": "stream",
          "name": "stdout",
          "text": [
            "Original Orders DataFrame:\n",
            "    ord_no  purch_amt    ord_date  customer_id  salesman_id\n",
            "0    70001     150.50  2012-10-05         3001         5002\n",
            "1    70009     270.65  2012-09-10         3001         5005\n",
            "2    70002      65.26  2012-10-05         3005         5001\n",
            "3    70004     110.50  2012-08-17         3001         5003\n",
            "4    70007     948.50  2012-09-10         3005         5002\n",
            "5    70005    2400.60  2012-07-27         3001         5001\n",
            "6    70008    5760.00  2012-09-10         3005         5001\n",
            "7    70010    1983.43  2012-10-10         3001         5006\n",
            "8    70003    2480.40  2012-10-10         3005         5003\n",
            "9    70012     250.45  2012-06-27         3001         5002\n",
            "10   70011      75.29  2012-08-17         3005         5007\n",
            "11   70013    3045.60  2012-04-25         3005         5001\n",
            "\n",
            "Group on 'customer_id', 'salesman_id' and then sort sum of purch_amt within the groups:\n",
            "customer_id  salesman_id\n",
            "3001         5001           2400.60\n",
            "             5006           1983.43\n",
            "             5002            400.95\n",
            "             5005            270.65\n",
            "             5003            110.50\n",
            "3005         5001           8870.86\n",
            "             5003           2480.40\n",
            "             5002            948.50\n",
            "             5007             75.29\n",
            "Name: purch_amt, dtype: float64\n"
          ]
        }
      ]
    },
    {
      "cell_type": "markdown",
      "source": [
        "10 Write a Pandas program to split the following dataframe into groups based on customer id and create a list of order date for each group."
      ],
      "metadata": {
        "id": "mgSEV7GGfuGg"
      }
    },
    {
      "cell_type": "code",
      "source": [
        "import pandas as pd\n",
        "pd.set_option('display.max_rows', None)\n",
        "#pd.set_option('display.max_columns', None)\n",
        "df = pd.DataFrame({\n",
        "'ord_no':[70001,70009,70002,70004,70007,70005,70008,70010,70003,70012,70011,70013],\n",
        "'purch_amt':[150.5,270.65,65.26,110.5,948.5,2400.6,5760,1983.43,2480.4,250.45, 75.29,3045.6],\n",
        "'ord_date': ['2012-10-05','2012-09-10','2012-10-05','2012-08-17','2012-09-10','2012-07-27','2012-09-10','2012-10-10','2012-10-10','2012-06-27','2012-08-17','2012-04-25'],\n",
        "'customer_id':[3001,3001,3005,3001,3005,3001,3005,3001,3005,3001,3005,3005],\n",
        "'salesman_id': [5002,5005,5001,5003,5002,5001,5001,5006,5003,5002,5007,5001]})\n",
        "print(\"Original Orders DataFrame:\")\n",
        "print(df)\n",
        "result = df.groupby('customer_id')['ord_date'].apply(list)\n",
        "print(\"\\nGroup on 'customer_id' and display the list of order dates in group wise:\")\n",
        "print(result)"
      ],
      "metadata": {
        "colab": {
          "base_uri": "https://localhost:8080/"
        },
        "id": "GiG0KLtTfvsb",
        "outputId": "3589b4ce-bbb5-4525-8a26-63b9edd30baa"
      },
      "execution_count": 10,
      "outputs": [
        {
          "output_type": "stream",
          "name": "stdout",
          "text": [
            "Original Orders DataFrame:\n",
            "    ord_no  purch_amt    ord_date  customer_id  salesman_id\n",
            "0    70001     150.50  2012-10-05         3001         5002\n",
            "1    70009     270.65  2012-09-10         3001         5005\n",
            "2    70002      65.26  2012-10-05         3005         5001\n",
            "3    70004     110.50  2012-08-17         3001         5003\n",
            "4    70007     948.50  2012-09-10         3005         5002\n",
            "5    70005    2400.60  2012-07-27         3001         5001\n",
            "6    70008    5760.00  2012-09-10         3005         5001\n",
            "7    70010    1983.43  2012-10-10         3001         5006\n",
            "8    70003    2480.40  2012-10-10         3005         5003\n",
            "9    70012     250.45  2012-06-27         3001         5002\n",
            "10   70011      75.29  2012-08-17         3005         5007\n",
            "11   70013    3045.60  2012-04-25         3005         5001\n",
            "\n",
            "Group on 'customer_id' and display the list of order dates in group wise:\n",
            "customer_id\n",
            "3001    [2012-10-05, 2012-09-10, 2012-08-17, 2012-07-2...\n",
            "3005    [2012-10-05, 2012-09-10, 2012-09-10, 2012-10-1...\n",
            "Name: ord_date, dtype: object\n"
          ]
        }
      ]
    },
    {
      "cell_type": "markdown",
      "source": [
        "11 Write a Pandas program to split the following dataframe into groups and calculate monthly purchase amount."
      ],
      "metadata": {
        "id": "tH3E7LnDf0YU"
      }
    },
    {
      "cell_type": "code",
      "source": [
        "import pandas as pd\n",
        "pd.set_option('display.max_rows', None)\n",
        "#pd.set_option('display.max_columns', None)\n",
        "df = pd.DataFrame({\n",
        "'ord_no':[70001,70009,70002,70004,70007,70005,70008,70010,70003,70012,70011,70013],\n",
        "'purch_amt':[150.5,270.65,65.26,110.5,948.5,2400.6,5760,1983.43,2480.4,250.45, 75.29,3045.6],\n",
        "'ord_date': ['05-10-2012','09-10-2012','05-10-2012','08-17-2012','10-09-2012','07-27-2012','10-09-2012','10-10-2012','10-10-2012','06-17-2012','07-08-2012','04-25-2012'],\n",
        "'customer_id':[3001,3001,3005,3001,3005,3001,3005,3001,3005,3001,3005,3005],\n",
        "'salesman_id': [5002,5005,5001,5003,5002,5001,5001,5006,5003,5002,5007,5001]})\n",
        "print(\"Original Orders DataFrame:\")\n",
        "print(df)\n",
        "df['ord_date']= pd.to_datetime(df['ord_date']) \n",
        "print(\"\\nMonth wise purchase amount:\")\n",
        "result = df.set_index('ord_date').groupby(pd.Grouper(freq='M')).agg({'purch_amt':sum})\n",
        "print(result)"
      ],
      "metadata": {
        "colab": {
          "base_uri": "https://localhost:8080/"
        },
        "id": "36uP3SzLf7IA",
        "outputId": "2403e812-6ad8-4532-c0b2-1c90fedf0686"
      },
      "execution_count": 11,
      "outputs": [
        {
          "output_type": "stream",
          "name": "stdout",
          "text": [
            "Original Orders DataFrame:\n",
            "    ord_no  purch_amt    ord_date  customer_id  salesman_id\n",
            "0    70001     150.50  05-10-2012         3001         5002\n",
            "1    70009     270.65  09-10-2012         3001         5005\n",
            "2    70002      65.26  05-10-2012         3005         5001\n",
            "3    70004     110.50  08-17-2012         3001         5003\n",
            "4    70007     948.50  10-09-2012         3005         5002\n",
            "5    70005    2400.60  07-27-2012         3001         5001\n",
            "6    70008    5760.00  10-09-2012         3005         5001\n",
            "7    70010    1983.43  10-10-2012         3001         5006\n",
            "8    70003    2480.40  10-10-2012         3005         5003\n",
            "9    70012     250.45  06-17-2012         3001         5002\n",
            "10   70011      75.29  07-08-2012         3005         5007\n",
            "11   70013    3045.60  04-25-2012         3005         5001\n",
            "\n",
            "Month wise purchase amount:\n",
            "            purch_amt\n",
            "ord_date             \n",
            "2012-04-30    3045.60\n",
            "2012-05-31     215.76\n",
            "2012-06-30     250.45\n",
            "2012-07-31    2475.89\n",
            "2012-08-31     110.50\n",
            "2012-09-30     270.65\n",
            "2012-10-31   11172.33\n"
          ]
        }
      ]
    },
    {
      "cell_type": "markdown",
      "source": [
        "12 Write a Pandas program to split the following dataframe into groups, group by month and year based on order date and find the total purchase amount year wise, month wise."
      ],
      "metadata": {
        "id": "jv1FWyADgChH"
      }
    },
    {
      "cell_type": "code",
      "source": [
        "import pandas as pd\n",
        "pd.set_option('display.max_rows', None)\n",
        "#pd.set_option('display.max_columns', None)\n",
        "df = pd.DataFrame({\n",
        "'ord_no':[70001,70009,70002,70004,70007,70005,70008,70010,70003,70012,70011,70013],\n",
        "'purch_amt':[150.5,270.65,65.26,110.5,948.5,2400.6,5760,1983.43,2480.4,250.45, 75.29,3045.6],\n",
        "'ord_date': ['05-10-2012','09-10-2012','05-10-2013','08-17-2013','10-09-2013','07-27-2014','10-09-2012','10-10-2012','10-10-2012','06-17-2014','07-08-2012','04-25-2012'],\n",
        "'customer_id':[3001,3001,3005,3001,3005,3001,3005,3001,3005,3001,3005,3005],\n",
        "'salesman_id': [5002,5005,5001,5003,5002,5001,5001,5006,5003,5002,5007,5001]})\n",
        "print(\"Original Orders DataFrame:\")\n",
        "print(df)\n",
        "df['ord_date']= pd.to_datetime(df['ord_date']) \n",
        "print(\"\\nYear wise Month wise purchase amount:\")\n",
        "result = df.groupby([df['ord_date'].dt.year, df['ord_date'].dt.month]).agg({'purch_amt':sum})\n",
        "print(result)"
      ],
      "metadata": {
        "colab": {
          "base_uri": "https://localhost:8080/"
        },
        "id": "jfjhlGShf9gf",
        "outputId": "3627dd72-c001-447b-9398-a3a8fb866946"
      },
      "execution_count": 12,
      "outputs": [
        {
          "output_type": "stream",
          "name": "stdout",
          "text": [
            "Original Orders DataFrame:\n",
            "    ord_no  purch_amt    ord_date  customer_id  salesman_id\n",
            "0    70001     150.50  05-10-2012         3001         5002\n",
            "1    70009     270.65  09-10-2012         3001         5005\n",
            "2    70002      65.26  05-10-2013         3005         5001\n",
            "3    70004     110.50  08-17-2013         3001         5003\n",
            "4    70007     948.50  10-09-2013         3005         5002\n",
            "5    70005    2400.60  07-27-2014         3001         5001\n",
            "6    70008    5760.00  10-09-2012         3005         5001\n",
            "7    70010    1983.43  10-10-2012         3001         5006\n",
            "8    70003    2480.40  10-10-2012         3005         5003\n",
            "9    70012     250.45  06-17-2014         3001         5002\n",
            "10   70011      75.29  07-08-2012         3005         5007\n",
            "11   70013    3045.60  04-25-2012         3005         5001\n",
            "\n",
            "Year wise Month wise purchase amount:\n",
            "                   purch_amt\n",
            "ord_date ord_date           \n",
            "2012     4           3045.60\n",
            "         5            150.50\n",
            "         7             75.29\n",
            "         9            270.65\n",
            "         10         10223.83\n",
            "2013     5             65.26\n",
            "         8            110.50\n",
            "         10           948.50\n",
            "2014     6            250.45\n",
            "         7           2400.60\n"
          ]
        }
      ]
    },
    {
      "cell_type": "markdown",
      "source": [
        "13 Write a Pandas program to split the following dataframe into groups based on first column and set other column values into a list of values. "
      ],
      "metadata": {
        "id": "jBen9195gJYM"
      }
    },
    {
      "cell_type": "code",
      "source": [
        "import pandas as pd\n",
        "df = pd.DataFrame( {'X' : [10, 10, 10, 20, 30, 30, 10], \n",
        "                    'Y' : [10, 15, 11, 20, 21, 12, 14], \n",
        "                    'Z' : [22, 20, 18, 20, 13, 10, 0]})\n",
        "print(\"Original DataFrame:\")\n",
        "print(df)\n",
        "result= df.groupby('X').aggregate(lambda tdf: tdf.unique().tolist())\n",
        "print(result)"
      ],
      "metadata": {
        "colab": {
          "base_uri": "https://localhost:8080/"
        },
        "id": "v1G3kvB7gNZv",
        "outputId": "95cbc1d5-923a-4fbb-82f6-f8a3944d7c83"
      },
      "execution_count": 13,
      "outputs": [
        {
          "output_type": "stream",
          "name": "stdout",
          "text": [
            "Original DataFrame:\n",
            "    X   Y   Z\n",
            "0  10  10  22\n",
            "1  10  15  20\n",
            "2  10  11  18\n",
            "3  20  20  20\n",
            "4  30  21  13\n",
            "5  30  12  10\n",
            "6  10  14   0\n",
            "                   Y                Z\n",
            "X                                    \n",
            "10  [10, 15, 11, 14]  [22, 20, 18, 0]\n",
            "20              [20]             [20]\n",
            "30          [21, 12]         [13, 10]\n"
          ]
        }
      ]
    },
    {
      "cell_type": "code",
      "source": [
        ""
      ],
      "metadata": {
        "id": "HB_GOTYlgRfB"
      },
      "execution_count": null,
      "outputs": []
    },
    {
      "cell_type": "markdown",
      "source": [
        "14 Write a Pandas program to split the following dataframe into groups based on all columns and calculate Groupby value counts on the dataframe"
      ],
      "metadata": {
        "id": "hTmhT1J_gVkz"
      }
    },
    {
      "cell_type": "code",
      "source": [
        "import pandas as pd\n",
        "df = pd.DataFrame( {'id' : [1, 2, 1, 1, 2, 1, 2], \n",
        "                    'type' : [10, 15, 11, 20, 21, 12, 14], \n",
        "                    'book' : ['Math','English','Physics','Math','English','Physics','English']})\n",
        "\n",
        "print(\"Original DataFrame:\")\n",
        "print(df)\n",
        "result = df.groupby(['id', 'type', 'book']).size().unstack(fill_value=0)\n",
        "print(\"\\nResult:\")\n",
        "print(result)"
      ],
      "metadata": {
        "colab": {
          "base_uri": "https://localhost:8080/"
        },
        "id": "wq5FXPnIwTGb",
        "outputId": "a6972cee-4c9a-42cb-90ca-55fff6f31613"
      },
      "execution_count": 14,
      "outputs": [
        {
          "output_type": "stream",
          "name": "stdout",
          "text": [
            "Original DataFrame:\n",
            "   id  type     book\n",
            "0   1    10     Math\n",
            "1   2    15  English\n",
            "2   1    11  Physics\n",
            "3   1    20     Math\n",
            "4   2    21  English\n",
            "5   1    12  Physics\n",
            "6   2    14  English\n",
            "\n",
            "Result:\n",
            "book     English  Math  Physics\n",
            "id type                        \n",
            "1  10          0     1        0\n",
            "   11          0     0        1\n",
            "   12          0     0        1\n",
            "   20          0     1        0\n",
            "2  14          1     0        0\n",
            "   15          1     0        0\n",
            "   21          1     0        0\n"
          ]
        }
      ]
    },
    {
      "cell_type": "markdown",
      "source": [
        "15 Write a Pandas program to split the following dataframe into groups and count unique values of 'value' column."
      ],
      "metadata": {
        "id": "wFCEzcuQwiMh"
      }
    },
    {
      "cell_type": "code",
      "source": [
        "import pandas as pd\n",
        "df = pd.DataFrame({\n",
        "    'id': [1, 1, 2, 3, 3, 4, 4, 4],\n",
        "    'value': ['a', 'a', 'b', None, 'a', 'a', None, 'b']\n",
        "})\n",
        "print(\"Original DataFrame:\")\n",
        "print(df)\n",
        "print(\"Count unique values:\")\n",
        "print (df.groupby('value')['id'].nunique())"
      ],
      "metadata": {
        "colab": {
          "base_uri": "https://localhost:8080/"
        },
        "id": "-wStR7t0wkyD",
        "outputId": "1f78fb9f-e303-455b-9c04-8a1e87e1ec6b"
      },
      "execution_count": 15,
      "outputs": [
        {
          "output_type": "stream",
          "name": "stdout",
          "text": [
            "Original DataFrame:\n",
            "   id value\n",
            "0   1     a\n",
            "1   1     a\n",
            "2   2     b\n",
            "3   3  None\n",
            "4   3     a\n",
            "5   4     a\n",
            "6   4  None\n",
            "7   4     b\n",
            "Count unique values:\n",
            "value\n",
            "a    3\n",
            "b    2\n",
            "Name: id, dtype: int64\n"
          ]
        }
      ]
    },
    {
      "cell_type": "markdown",
      "source": [
        "16 Write a Pandas program to split a given dataframe into groups and list all the keys from the GroupBy object."
      ],
      "metadata": {
        "id": "UD7W1KA-wsEC"
      }
    },
    {
      "cell_type": "code",
      "source": [
        "import pandas as pd\n",
        "pd.set_option('display.max_rows', None)\n",
        "#pd.set_option('display.max_columns', None)\n",
        "df = pd.DataFrame({\n",
        "    'school_code': ['s001','s002','s003','s001','s002','s004'],\n",
        "    'class': ['V', 'V', 'VI', 'VI', 'V', 'VI'],\n",
        "    'name': ['Alberto Franco','Gino Mcneill','Ryan Parkes', 'Eesha Hinton', 'Gino Mcneill', 'David Parkes'],\n",
        "    'date_Of_Birth ': ['15/05/2002','17/05/2002','16/02/1999','25/09/1998','11/05/2002','15/09/1997'],\n",
        "    'age': [12, 12, 13, 13, 14, 12],\n",
        "    'height': [173, 192, 186, 167, 151, 159],\n",
        "    'weight': [35, 32, 33, 30, 31, 32],\n",
        "    'address': ['street1', 'street2', 'street3', 'street1', 'street2', 'street4']},\n",
        "    index=['S1', 'S2', 'S3', 'S4', 'S5', 'S6'])\n",
        "print(\"Original DataFrame:\")\n",
        "print(df)\n",
        "print(\"\\nSplit the data on school_code:\");\n",
        "gp = df.groupby('school_code')\n",
        "print(\"\\nList of all the keys:\")\n",
        "print(gp.groups.keys())"
      ],
      "metadata": {
        "colab": {
          "base_uri": "https://localhost:8080/"
        },
        "id": "ILCURglmwrQA",
        "outputId": "63bc7a87-4b47-4588-de2c-5ea8906a34ea"
      },
      "execution_count": 16,
      "outputs": [
        {
          "output_type": "stream",
          "name": "stdout",
          "text": [
            "Original DataFrame:\n",
            "   school_code class            name date_Of_Birth   age  height  weight  \\\n",
            "S1        s001     V  Alberto Franco     15/05/2002   12     173      35   \n",
            "S2        s002     V    Gino Mcneill     17/05/2002   12     192      32   \n",
            "S3        s003    VI     Ryan Parkes     16/02/1999   13     186      33   \n",
            "S4        s001    VI    Eesha Hinton     25/09/1998   13     167      30   \n",
            "S5        s002     V    Gino Mcneill     11/05/2002   14     151      31   \n",
            "S6        s004    VI    David Parkes     15/09/1997   12     159      32   \n",
            "\n",
            "    address  \n",
            "S1  street1  \n",
            "S2  street2  \n",
            "S3  street3  \n",
            "S4  street1  \n",
            "S5  street2  \n",
            "S6  street4  \n",
            "\n",
            "Split the data on school_code:\n",
            "\n",
            "List of all the keys:\n",
            "dict_keys(['s001', 's002', 's003', 's004'])\n"
          ]
        }
      ]
    },
    {
      "cell_type": "markdown",
      "source": [
        "17 Write a Pandas program to split a given dataframe into groups and create a new column with count from GroupBy."
      ],
      "metadata": {
        "id": "NS481hWZxCZw"
      }
    },
    {
      "cell_type": "code",
      "source": [
        "import pandas as pd\n",
        "pd.set_option('display.max_rows', None)\n",
        "df = pd.DataFrame({\n",
        "'book_name':['Book1','Book2','Book3','Book4','Book1','Book2','Book3','Book5'],\n",
        "'book_type':['Math','Physics','Computer','Science','Math','Physics','Computer','English'],\n",
        "'book_id':[1,2,3,4,1,2,3,5]})\n",
        "print(\"Original Orders DataFrame:\")\n",
        "print(df)\n",
        "print(\"\\nNew column with count from groupby:\")\n",
        "result = df.groupby([\"book_name\", \"book_type\"])[\"book_type\"].count().reset_index(name=\"count\")\n",
        "print(result)"
      ],
      "metadata": {
        "colab": {
          "base_uri": "https://localhost:8080/"
        },
        "id": "-HwMqvsuw3hx",
        "outputId": "9073d879-6650-45b4-c744-4720381995c3"
      },
      "execution_count": 17,
      "outputs": [
        {
          "output_type": "stream",
          "name": "stdout",
          "text": [
            "Original Orders DataFrame:\n",
            "  book_name book_type  book_id\n",
            "0     Book1      Math        1\n",
            "1     Book2   Physics        2\n",
            "2     Book3  Computer        3\n",
            "3     Book4   Science        4\n",
            "4     Book1      Math        1\n",
            "5     Book2   Physics        2\n",
            "6     Book3  Computer        3\n",
            "7     Book5   English        5\n",
            "\n",
            "New column with count from groupby:\n",
            "  book_name book_type  count\n",
            "0     Book1      Math      2\n",
            "1     Book2   Physics      2\n",
            "2     Book3  Computer      2\n",
            "3     Book4   Science      1\n",
            "4     Book5   English      1\n"
          ]
        }
      ]
    },
    {
      "cell_type": "markdown",
      "source": [
        "18 Write a Pandas program to split a given dataframe into groups with bin counts"
      ],
      "metadata": {
        "id": "JG8MaAUcxNwY"
      }
    },
    {
      "cell_type": "code",
      "source": [
        "import pandas as pd\n",
        "pd.set_option('display.max_rows', None)\n",
        "pd.set_option('display.max_columns', None)\n",
        "df = pd.DataFrame({\n",
        "'ord_no':[70001,70009,70002,70004,70007,70005,70008,70010,70003,70012,70011,70013],\n",
        "'purch_amt':[150.5,270.65,65.26,110.5,948.5,2400.6,5760,1983.43,2480.4,250.45, 75.29,3045.6],\n",
        "'customer_id':[3005,3001,3002,3009,3005,3007,3002,3004,3009,3008,3003,3002],\n",
        "'sales_id':[5002,5003,5004,5003,5002,5001,5005,5007,5008,5004,5005,5001]})\n",
        "print(\"Original DataFrame:\")\n",
        "print(df)\n",
        "groups = df.groupby(['customer_id', pd.cut(df.sales_id, 3)])\n",
        "result = groups.size().unstack()\n",
        "print(result)"
      ],
      "metadata": {
        "colab": {
          "base_uri": "https://localhost:8080/"
        },
        "id": "ZLA3A_LZxMr6",
        "outputId": "f53f95ba-05b6-440b-d92f-3d9b91554cdf"
      },
      "execution_count": 18,
      "outputs": [
        {
          "output_type": "stream",
          "name": "stdout",
          "text": [
            "Original DataFrame:\n",
            "    ord_no  purch_amt  customer_id  sales_id\n",
            "0    70001     150.50         3005      5002\n",
            "1    70009     270.65         3001      5003\n",
            "2    70002      65.26         3002      5004\n",
            "3    70004     110.50         3009      5003\n",
            "4    70007     948.50         3005      5002\n",
            "5    70005    2400.60         3007      5001\n",
            "6    70008    5760.00         3002      5005\n",
            "7    70010    1983.43         3004      5007\n",
            "8    70003    2480.40         3009      5008\n",
            "9    70012     250.45         3008      5004\n",
            "10   70011      75.29         3003      5005\n",
            "11   70013    3045.60         3002      5001\n",
            "sales_id     (5000.993, 5003.333]  (5003.333, 5005.667]  (5005.667, 5008.0]\n",
            "customer_id                                                                \n",
            "3001                            1                     0                   0\n",
            "3002                            1                     2                   0\n",
            "3003                            0                     1                   0\n",
            "3004                            0                     0                   1\n",
            "3005                            2                     0                   0\n",
            "3007                            1                     0                   0\n",
            "3008                            0                     1                   0\n",
            "3009                            1                     0                   1\n"
          ]
        }
      ]
    },
    {
      "cell_type": "markdown",
      "source": [
        "19 Write a Pandas program to split a given dataframe into groups with multiple aggregations. \n",
        "Split the following given dataframe by school code, class and get mean, min, and max value of height and age for each value of the school."
      ],
      "metadata": {
        "id": "nDY2h7Z2xbXP"
      }
    },
    {
      "cell_type": "code",
      "source": [
        "import pandas as pd\n",
        "pd.set_option('display.max_rows', None)\n",
        "#pd.set_option('display.max_columns', None)\n",
        "df = pd.DataFrame({\n",
        "    'school_code': ['s001','s002','s003','s001','s002','s001'],\n",
        "    'class': ['V', 'V', 'VI', 'VI', 'V', 'VI'],\n",
        "    'name': ['Alberto Franco','Gino Mcneill','Ryan Parkes', 'Eesha Hinton', 'Gino Mcneill', 'David Parkes'],\n",
        "    'date_Of_Birth ': ['15/05/2002','17/05/2002','16/02/1999','25/09/1998','11/05/2002','15/09/1997'],\n",
        "    'age': [12, 12, 13, 13, 14, 12],\n",
        "    'height': [173, 192, 186, 167, 151, 159],\n",
        "    'weight': [35, 32, 33, 30, 31, 32],\n",
        "    'address': ['street1', 'street2', 'street3', 'street1', 'street2', 'street4']},\n",
        "    index=['S1', 'S2', 'S3', 'S4', 'S5', 'S6'])\n",
        "print(\"Original DataFrame:\")\n",
        "print(df)\n",
        "print(\"\\nGroup by with multiple aggregations:\")\n",
        "result = df.groupby(['school_code','class']).agg({'height': ['max', 'mean'],\n",
        "                                 'weight': ['sum','min','count']})\n",
        "print(result)"
      ],
      "metadata": {
        "colab": {
          "base_uri": "https://localhost:8080/"
        },
        "id": "iBxx_7B3xXMk",
        "outputId": "bdedef2f-0713-4d57-bb40-a146d66e765c"
      },
      "execution_count": 19,
      "outputs": [
        {
          "output_type": "stream",
          "name": "stdout",
          "text": [
            "Original DataFrame:\n",
            "   school_code class            name date_Of_Birth   age  height  weight  \\\n",
            "S1        s001     V  Alberto Franco     15/05/2002   12     173      35   \n",
            "S2        s002     V    Gino Mcneill     17/05/2002   12     192      32   \n",
            "S3        s003    VI     Ryan Parkes     16/02/1999   13     186      33   \n",
            "S4        s001    VI    Eesha Hinton     25/09/1998   13     167      30   \n",
            "S5        s002     V    Gino Mcneill     11/05/2002   14     151      31   \n",
            "S6        s001    VI    David Parkes     15/09/1997   12     159      32   \n",
            "\n",
            "    address  \n",
            "S1  street1  \n",
            "S2  street2  \n",
            "S3  street3  \n",
            "S4  street1  \n",
            "S5  street2  \n",
            "S6  street4  \n",
            "\n",
            "Group by with multiple aggregations:\n",
            "                  height        weight          \n",
            "                     max   mean    sum min count\n",
            "school_code class                               \n",
            "s001        V        173  173.0     35  35     1\n",
            "            VI       167  163.0     62  30     2\n",
            "s002        V        192  171.5     63  31     2\n",
            "s003        VI       186  186.0     33  33     1\n"
          ]
        }
      ]
    },
    {
      "cell_type": "markdown",
      "source": [
        "20 Write a Pandas program to split a given dataframe into groups and display target column as a list of unique values."
      ],
      "metadata": {
        "id": "DSkHgxN2yMED"
      }
    },
    {
      "cell_type": "code",
      "source": [
        "import pandas as pd\n",
        "df = pd.DataFrame( {'id' : ['A','A','A','A','A','A','B','B','B','B','B'], \n",
        "                    'type' : [1,1,1,1,2,2,1,1,1,2,2], \n",
        "                    'book' : ['Math','Math','English','Physics','Math','English','Physics','English','Physics','English','English']})\n",
        "\n",
        "print(\"Original DataFrame:\")\n",
        "print(df)\n",
        "new_df = df[['id', 'type', 'book']].drop_duplicates()\\\n",
        "                         .groupby(['id','type'])['book']\\\n",
        "                         .apply(list)\\\n",
        "                         .reset_index()\n",
        "\n",
        "new_df['book'] = new_df.apply(lambda x: (','.join([str(s) for s in x['book']])), axis = 1)\n",
        "print(\"\\nList all unique values in a group:\")\n",
        "print(new_df)"
      ],
      "metadata": {
        "colab": {
          "base_uri": "https://localhost:8080/"
        },
        "id": "zSb3sj9VyPOS",
        "outputId": "4b235798-6e5e-4ea2-c819-61e773130b2f"
      },
      "execution_count": 20,
      "outputs": [
        {
          "output_type": "stream",
          "name": "stdout",
          "text": [
            "Original DataFrame:\n",
            "   id  type     book\n",
            "0   A     1     Math\n",
            "1   A     1     Math\n",
            "2   A     1  English\n",
            "3   A     1  Physics\n",
            "4   A     2     Math\n",
            "5   A     2  English\n",
            "6   B     1  Physics\n",
            "7   B     1  English\n",
            "8   B     1  Physics\n",
            "9   B     2  English\n",
            "10  B     2  English\n",
            "\n",
            "List all unique values in a group:\n",
            "  id  type                  book\n",
            "0  A     1  Math,English,Physics\n",
            "1  A     2          Math,English\n",
            "2  B     1       Physics,English\n",
            "3  B     2               English\n"
          ]
        }
      ]
    },
    {
      "cell_type": "markdown",
      "source": [
        "21 Write a Pandas program to split the following dataframe into groups and calculate quarterly purchase amount."
      ],
      "metadata": {
        "id": "3G1gzSNPyVZi"
      }
    },
    {
      "cell_type": "code",
      "source": [
        "import pandas as pd\n",
        "pd.set_option('display.max_rows', None)\n",
        "#pd.set_option('display.max_columns', None)\n",
        "df = pd.DataFrame({\n",
        "'ord_no':[70001,70009,70002,70004,70007,70005,70008,70010,70003,70012,70011,70013],\n",
        "'purch_amt':[150.5,270.65,65.26,110.5,948.5,2400.6,5760,1983.43,2480.4,250.45, 75.29,3045.6],\n",
        "'ord_date': ['05-10-2012','09-10-2012','05-10-2012','08-17-2012','10-09-2012','07-27-2012','10-09-2012','10-10-2012','10-10-2012','06-17-2012','07-08-2012','04-25-2012'],\n",
        "'customer_id':[3001,3001,3005,3001,3005,3001,3005,3001,3005,3001,3005,3005],\n",
        "'salesman_id': [5002,5005,5001,5003,5002,5001,5001,5006,5003,5002,5007,5001]})\n",
        "print(\"Original Orders DataFrame:\")\n",
        "print(df)\n",
        "df['ord_date']= pd.to_datetime(df['ord_date']) \n",
        "print(\"\\nQuartly purchase amount:\")\n",
        "result = df.set_index('ord_date').groupby(pd.Grouper(freq='Q')).agg({'purch_amt':sum})\n",
        "print(result)"
      ],
      "metadata": {
        "colab": {
          "base_uri": "https://localhost:8080/"
        },
        "id": "MDsJaGgUyZ1n",
        "outputId": "4e1dad17-6184-422c-b226-026897c1aa65"
      },
      "execution_count": 21,
      "outputs": [
        {
          "output_type": "stream",
          "name": "stdout",
          "text": [
            "Original Orders DataFrame:\n",
            "    ord_no  purch_amt    ord_date  customer_id  salesman_id\n",
            "0    70001     150.50  05-10-2012         3001         5002\n",
            "1    70009     270.65  09-10-2012         3001         5005\n",
            "2    70002      65.26  05-10-2012         3005         5001\n",
            "3    70004     110.50  08-17-2012         3001         5003\n",
            "4    70007     948.50  10-09-2012         3005         5002\n",
            "5    70005    2400.60  07-27-2012         3001         5001\n",
            "6    70008    5760.00  10-09-2012         3005         5001\n",
            "7    70010    1983.43  10-10-2012         3001         5006\n",
            "8    70003    2480.40  10-10-2012         3005         5003\n",
            "9    70012     250.45  06-17-2012         3001         5002\n",
            "10   70011      75.29  07-08-2012         3005         5007\n",
            "11   70013    3045.60  04-25-2012         3005         5001\n",
            "\n",
            "Quartly purchase amount:\n",
            "            purch_amt\n",
            "ord_date             \n",
            "2012-06-30    3511.81\n",
            "2012-09-30    2857.04\n",
            "2012-12-31   11172.33\n"
          ]
        }
      ]
    },
    {
      "cell_type": "markdown",
      "source": [
        "22 Write a Pandas program to split the following dataframe into groups by school code and get mean, min, and max value of age with customized column name for each school"
      ],
      "metadata": {
        "id": "3wUrhs9-ymc3"
      }
    },
    {
      "cell_type": "code",
      "source": [
        "import pandas as pd\n",
        "pd.set_option('display.max_rows', None)\n",
        "#pd.set_option('display.max_columns', None)\n",
        "student_data = pd.DataFrame({\n",
        "    'school_code': ['s001','s002','s003','s001','s002','s004'],\n",
        "    'class': ['V', 'V', 'VI', 'VI', 'V', 'VI'],\n",
        "    'name': ['Alberto Franco','Gino Mcneill','Ryan Parkes', 'Eesha Hinton', 'Gino Mcneill', 'David Parkes'],\n",
        "    'date_Of_Birth ': ['15/05/2002','17/05/2002','16/02/1999','25/09/1998','11/05/2002','15/09/1997'],\n",
        "    'age': [12, 12, 13, 13, 14, 12],\n",
        "    ' height ': [173, 192, 186, 167, 151, 159],\n",
        "    'weight': [35, 32, 33, 30, 31, 32],\n",
        "    'address': ['street1', 'street2', 'street3', 'street1', 'street2', 'street4']},\n",
        "    index=['S1', 'S2', 'S3', 'S4', 'S5', 'S6'])\n",
        "\n",
        "print(\"Original DataFrame:\")\n",
        "print(student_data)\n",
        "print('\\nMean, min, and max value of age for each school with customized column names:')\n",
        "grouped_single = student_data.groupby('school_code').agg(Age_Mean = ('age','mean'),Age_Max=('age',max),Age_Min=('age',min))\n",
        "print(grouped_single)"
      ],
      "metadata": {
        "colab": {
          "base_uri": "https://localhost:8080/"
        },
        "id": "dezEapEFyphO",
        "outputId": "0e043f55-fa6d-451f-989e-4b17e4f36506"
      },
      "execution_count": 22,
      "outputs": [
        {
          "output_type": "stream",
          "name": "stdout",
          "text": [
            "Original DataFrame:\n",
            "   school_code class            name date_Of_Birth   age   height   weight  \\\n",
            "S1        s001     V  Alberto Franco     15/05/2002   12       173      35   \n",
            "S2        s002     V    Gino Mcneill     17/05/2002   12       192      32   \n",
            "S3        s003    VI     Ryan Parkes     16/02/1999   13       186      33   \n",
            "S4        s001    VI    Eesha Hinton     25/09/1998   13       167      30   \n",
            "S5        s002     V    Gino Mcneill     11/05/2002   14       151      31   \n",
            "S6        s004    VI    David Parkes     15/09/1997   12       159      32   \n",
            "\n",
            "    address  \n",
            "S1  street1  \n",
            "S2  street2  \n",
            "S3  street3  \n",
            "S4  street1  \n",
            "S5  street2  \n",
            "S6  street4  \n",
            "\n",
            "Mean, min, and max value of age for each school with customized column names:\n",
            "             Age_Mean  Age_Max  Age_Min\n",
            "school_code                            \n",
            "s001             12.5       13       12\n",
            "s002             13.0       14       12\n",
            "s003             13.0       13       13\n",
            "s004             12.0       12       12\n"
          ]
        }
      ]
    },
    {
      "cell_type": "markdown",
      "source": [
        "23 Write a Pandas program to split the following datasets into groups on customer id and calculate the number of customers starting with 'C', the list of all products and the difference of maximum purchase amount and minimum purchase amount"
      ],
      "metadata": {
        "id": "mHsWJyC6yxiE"
      }
    },
    {
      "cell_type": "code",
      "source": [
        "import pandas as pd\n",
        "pd.set_option('display.max_rows', None)\n",
        "#pd.set_option('display.max_columns', None)\n",
        "df = pd.DataFrame({\n",
        "'ord_no':[70001,70009,70002,70004,70007,70005,70008,70010,70003,70012,70011,70013],\n",
        "'purch_amt':[150.5, 270.65, 65.26, 110.5, 948.5, 2400.6, 5760, 1983.43, 2480.4, 250.45, 75.29, 3045.6],\n",
        "'ord_date': ['05-10-2012','09-10-2012','05-10-2012','08-17-2012','10-09-2012','07-27-2012','10-09-2012','10-10-2012','10-10-2012','06-17-2012','07-08-2012','04-25-2012'],\n",
        "'customer_id':['C3001','C3001','D3005','D3001','C3005','D3001','C3005','D3001','D3005','C3001','D3005','D3005'],\n",
        "'salesman_id': [5002,5005,5001,5003,5002,5001,5001,5006,5003,5002,5007,5001]})\n",
        "print(\"Original Orders DataFrame:\")\n",
        "print(df)\n",
        "def customer_id_C(x):\n",
        "    return (x.str[0] == 'C').sum()\n",
        "result = df.groupby(['salesman_id'])\\\n",
        "  .agg(customer_id_start_C = ('customer_id', customer_id_C),\n",
        "       customer_id_list = ('customer_id', lambda x: ', '.join(x)),\n",
        "       purchase_amt_gap   = ('purch_amt', lambda x: x.max()-x.min())\n",
        "      )\n",
        "print(\"\\nNumber of customers  starting with ‘C’, the list of all products and the difference of maximum purchase amount and minimum purchase amount:\")\n",
        "print(result)"
      ],
      "metadata": {
        "colab": {
          "base_uri": "https://localhost:8080/"
        },
        "id": "fr2q3XHEy1cZ",
        "outputId": "73ba8f56-e08f-45e5-a868-6854f14bd6ef"
      },
      "execution_count": 23,
      "outputs": [
        {
          "output_type": "stream",
          "name": "stdout",
          "text": [
            "Original Orders DataFrame:\n",
            "    ord_no  purch_amt    ord_date customer_id  salesman_id\n",
            "0    70001     150.50  05-10-2012       C3001         5002\n",
            "1    70009     270.65  09-10-2012       C3001         5005\n",
            "2    70002      65.26  05-10-2012       D3005         5001\n",
            "3    70004     110.50  08-17-2012       D3001         5003\n",
            "4    70007     948.50  10-09-2012       C3005         5002\n",
            "5    70005    2400.60  07-27-2012       D3001         5001\n",
            "6    70008    5760.00  10-09-2012       C3005         5001\n",
            "7    70010    1983.43  10-10-2012       D3001         5006\n",
            "8    70003    2480.40  10-10-2012       D3005         5003\n",
            "9    70012     250.45  06-17-2012       C3001         5002\n",
            "10   70011      75.29  07-08-2012       D3005         5007\n",
            "11   70013    3045.60  04-25-2012       D3005         5001\n",
            "\n",
            "Number of customers  starting with ‘C’, the list of all products and the difference of maximum purchase amount and minimum purchase amount:\n",
            "             customer_id_start_C            customer_id_list  purchase_amt_gap\n",
            "salesman_id                                                                   \n",
            "5001                           1  D3005, D3001, C3005, D3005           5694.74\n",
            "5002                           3         C3001, C3005, C3001            798.00\n",
            "5003                           0                D3001, D3005           2369.90\n",
            "5005                           1                       C3001              0.00\n",
            "5006                           0                       D3001              0.00\n",
            "5007                           0                       D3005              0.00\n"
          ]
        }
      ]
    },
    {
      "cell_type": "markdown",
      "source": [
        "24 Write a Pandas program to split the following datasets into groups on customer_id to summarize purch_amt and calculate percentage of purch_amt in each group."
      ],
      "metadata": {
        "id": "XB-2h6xzy-eV"
      }
    },
    {
      "cell_type": "code",
      "source": [
        "import pandas as pd\n",
        "pd.set_option('display.max_rows', None)\n",
        "#pd.set_option('display.max_columns', None)\n",
        "df = pd.DataFrame({\n",
        "'ord_no':[70001,70009,70002,70004,70007,70005,70008,70010,70003,70012,70011,70013],\n",
        "'purch_amt':[150.5,270.65,65.26,110.5,948.5,2400.6,5760,1983.43,2480.4,250.45, 75.29,3045.6],\n",
        "'ord_date': ['05-10-2012','09-10-2012','05-10-2012','08-17-2012','10-09-2012','07-27-2012','10-09-2012','10-10-2012','10-10-2012','06-17-2012','07-08-2012','04-25-2012'],\n",
        "'customer_id':[3001,3001,3005,3001,3005,3001,3005,3001,3005,3001,3005,3005],\n",
        "'salesman_id': [5002,5005,5001,5003,5002,5001,5001,5006,5003,5002,5007,5001]})\n",
        "print(\"Original Orders DataFrame:\")\n",
        "print(df)\n",
        "gr_data = df.groupby(['customer_id','salesman_id']).agg({'purch_amt': 'sum'})\n",
        "gr_data[\"% (Purch Amt.)\"] = gr_data.apply(lambda x:  100*x / x.sum())\n",
        "print(\"\\nPercentage of purch_amt in each group of customer_id:\")\n",
        "print(gr_data)"
      ],
      "metadata": {
        "colab": {
          "base_uri": "https://localhost:8080/"
        },
        "id": "k-3BgClCzT8J",
        "outputId": "f3a1451e-19ad-4b77-ca32-1b01c1fe0b47"
      },
      "execution_count": 24,
      "outputs": [
        {
          "output_type": "stream",
          "name": "stdout",
          "text": [
            "Original Orders DataFrame:\n",
            "    ord_no  purch_amt    ord_date  customer_id  salesman_id\n",
            "0    70001     150.50  05-10-2012         3001         5002\n",
            "1    70009     270.65  09-10-2012         3001         5005\n",
            "2    70002      65.26  05-10-2012         3005         5001\n",
            "3    70004     110.50  08-17-2012         3001         5003\n",
            "4    70007     948.50  10-09-2012         3005         5002\n",
            "5    70005    2400.60  07-27-2012         3001         5001\n",
            "6    70008    5760.00  10-09-2012         3005         5001\n",
            "7    70010    1983.43  10-10-2012         3001         5006\n",
            "8    70003    2480.40  10-10-2012         3005         5003\n",
            "9    70012     250.45  06-17-2012         3001         5002\n",
            "10   70011      75.29  07-08-2012         3005         5007\n",
            "11   70013    3045.60  04-25-2012         3005         5001\n",
            "\n",
            "Percentage of purch_amt in each group of customer_id:\n",
            "                         purch_amt  % (Purch Amt.)\n",
            "customer_id salesman_id                           \n",
            "3001        5001           2400.60       13.685510\n",
            "            5002            400.95        2.285764\n",
            "            5003            110.50        0.629946\n",
            "            5005            270.65        1.542941\n",
            "            5006           1983.43       11.307278\n",
            "3005        5001           8870.86       50.571626\n",
            "            5002            948.50        5.407276\n",
            "            5003           2480.40       14.140440\n",
            "            5007             75.29        0.429219\n"
          ]
        }
      ]
    },
    {
      "cell_type": "markdown",
      "source": [
        "25 Write a Pandas program to split a dataset, group by one column and get mean, min, and max values by group, also change the column name of the aggregated metric. Using the following dataset find the mean, min, and max values of purchase amount (purch_amt) group by customer id (customer_id)"
      ],
      "metadata": {
        "id": "O3wRWh4Lza1T"
      }
    },
    {
      "cell_type": "code",
      "source": [
        "import pandas as pd\n",
        "pd.set_option('display.max_rows', None)\n",
        "#pd.set_option('display.max_columns', None)\n",
        "df = pd.DataFrame({\n",
        "    'school_code': ['s001','s002','s003','s001','s002','s004'],\n",
        "    'class': ['V', 'V', 'VI', 'VI', 'V', 'VI'],\n",
        "    'name': ['Alberto Franco','Gino Mcneill','Ryan Parkes', 'Eesha Hinton', 'Gino Mcneill', 'David Parkes'],\n",
        "    'date_Of_Birth ': ['15/05/2002','17/05/2002','16/02/1999','25/09/1998','11/05/2002','15/09/1997'],\n",
        "    'age': [12, 12, 13, 13, 14, 12],\n",
        "    'height': [173, 192, 186, 167, 151, 159],\n",
        "    'weight': [35, 32, 33, 30, 31, 32],\n",
        "    'address': ['street1', 'street2', 'street3', 'street1', 'street2', 'street4']},\n",
        "    index=['S1', 'S2', 'S3', 'S4', 'S5', 'S6'])\n",
        "print(\"Original DataFrame:\")\n",
        "print(df)\n",
        "print('\\nChange the name of an aggregated metric:')\n",
        "grouped_single = df.groupby('school_code').agg({'age': [(\"mean_age\",\"mean\"), (\"min_age\", \"min\"), (\"max_age\",\"max\")]})\n",
        "print(grouped_single)"
      ],
      "metadata": {
        "colab": {
          "base_uri": "https://localhost:8080/"
        },
        "id": "n70VeHbUzd9Q",
        "outputId": "18d922b7-2878-49ac-a506-5dd89af9eb90"
      },
      "execution_count": 25,
      "outputs": [
        {
          "output_type": "stream",
          "name": "stdout",
          "text": [
            "Original DataFrame:\n",
            "   school_code class            name date_Of_Birth   age  height  weight  \\\n",
            "S1        s001     V  Alberto Franco     15/05/2002   12     173      35   \n",
            "S2        s002     V    Gino Mcneill     17/05/2002   12     192      32   \n",
            "S3        s003    VI     Ryan Parkes     16/02/1999   13     186      33   \n",
            "S4        s001    VI    Eesha Hinton     25/09/1998   13     167      30   \n",
            "S5        s002     V    Gino Mcneill     11/05/2002   14     151      31   \n",
            "S6        s004    VI    David Parkes     15/09/1997   12     159      32   \n",
            "\n",
            "    address  \n",
            "S1  street1  \n",
            "S2  street2  \n",
            "S3  street3  \n",
            "S4  street1  \n",
            "S5  street2  \n",
            "S6  street4  \n",
            "\n",
            "Change the name of an aggregated metric:\n",
            "                 age                \n",
            "            mean_age min_age max_age\n",
            "school_code                         \n",
            "s001            12.5      12      13\n",
            "s002            13.0      12      14\n",
            "s003            13.0      13      13\n",
            "s004            12.0      12      12\n"
          ]
        }
      ]
    },
    {
      "cell_type": "markdown",
      "source": [
        "26 Write a Pandas program to split a given dataset, group by two columns and convert other columns of the dataframe into a dictionary with column header as key."
      ],
      "metadata": {
        "id": "beg_bS3IziWt"
      }
    },
    {
      "cell_type": "code",
      "source": [
        "import pandas as pd\n",
        "pd.set_option('display.max_rows', None)\n",
        "pd.set_option('display.max_columns', None)\n",
        "df = pd.DataFrame({\n",
        "    'school_code': ['s001','s002','s003','s001','s002','s004'],\n",
        "    'class': ['V', 'V', 'VI', 'VI', 'V', 'VI'],\n",
        "    'name': ['Alberto Franco','Gino Mcneill','Ryan Parkes', 'Eesha Hinton', 'Gino Mcneill', 'David Parkes'],\n",
        "    'date_Of_Birth ': ['15/05/2002','17/05/2002','16/02/1999','25/09/1998','11/05/2002','15/09/1997'],\n",
        "    'age': [12, 12, 13, 13, 14, 12],\n",
        "    'height': [173, 192, 186, 167, 151, 159],\n",
        "    'weight': [35, 32, 33, 30, 31, 32],\n",
        "    'address': ['street1', 'street2', 'street3', 'street1', 'street2', 'street4']},\n",
        "    index=['S1', 'S2', 'S3', 'S4', 'S5', 'S6'])\n",
        "print(\"Original DataFrame:\")\n",
        "print(df)\n",
        "dict_data_list = list()\n",
        "\n",
        "for gg, dd in df.groupby(['school_code','class']):\n",
        "    group = dict(zip(['school_code','class'], gg))\n",
        "    ocolumns_list = list()\n",
        "    for _, data in dd.iterrows():\n",
        "        data = data.drop(labels=['school_code','class'])\n",
        "        ocolumns_list.append(data.to_dict())\n",
        "    group['other_columns'] = ocolumns_list\n",
        "    dict_data_list.append(group)\n",
        "\n",
        "print(dict_data_list) "
      ],
      "metadata": {
        "colab": {
          "base_uri": "https://localhost:8080/"
        },
        "id": "XX6pVy1gzonc",
        "outputId": "5b1c7c9c-666b-4554-a905-b79ee0e99ffc"
      },
      "execution_count": 26,
      "outputs": [
        {
          "output_type": "stream",
          "name": "stdout",
          "text": [
            "Original DataFrame:\n",
            "   school_code class            name date_Of_Birth   age  height  weight  \\\n",
            "S1        s001     V  Alberto Franco     15/05/2002   12     173      35   \n",
            "S2        s002     V    Gino Mcneill     17/05/2002   12     192      32   \n",
            "S3        s003    VI     Ryan Parkes     16/02/1999   13     186      33   \n",
            "S4        s001    VI    Eesha Hinton     25/09/1998   13     167      30   \n",
            "S5        s002     V    Gino Mcneill     11/05/2002   14     151      31   \n",
            "S6        s004    VI    David Parkes     15/09/1997   12     159      32   \n",
            "\n",
            "    address  \n",
            "S1  street1  \n",
            "S2  street2  \n",
            "S3  street3  \n",
            "S4  street1  \n",
            "S5  street2  \n",
            "S6  street4  \n",
            "[{'school_code': 's001', 'class': 'V', 'other_columns': [{'name': 'Alberto Franco', 'date_Of_Birth ': '15/05/2002', 'age': 12, 'height': 173, 'weight': 35, 'address': 'street1'}]}, {'school_code': 's001', 'class': 'VI', 'other_columns': [{'name': 'Eesha Hinton', 'date_Of_Birth ': '25/09/1998', 'age': 13, 'height': 167, 'weight': 30, 'address': 'street1'}]}, {'school_code': 's002', 'class': 'V', 'other_columns': [{'name': 'Gino Mcneill', 'date_Of_Birth ': '17/05/2002', 'age': 12, 'height': 192, 'weight': 32, 'address': 'street2'}, {'name': 'Gino Mcneill', 'date_Of_Birth ': '11/05/2002', 'age': 14, 'height': 151, 'weight': 31, 'address': 'street2'}]}, {'school_code': 's003', 'class': 'VI', 'other_columns': [{'name': 'Ryan Parkes', 'date_Of_Birth ': '16/02/1999', 'age': 13, 'height': 186, 'weight': 33, 'address': 'street3'}]}, {'school_code': 's004', 'class': 'VI', 'other_columns': [{'name': 'David Parkes', 'date_Of_Birth ': '15/09/1997', 'age': 12, 'height': 159, 'weight': 32, 'address': 'street4'}]}]\n"
          ]
        }
      ]
    },
    {
      "cell_type": "markdown",
      "source": [
        "27 Write a Pandas program to split a given dataset, group by one column and apply an aggregate function to few columns and another aggregate function to the rest of the columns of the dataframe"
      ],
      "metadata": {
        "id": "kz4_4ySYz0kx"
      }
    },
    {
      "cell_type": "code",
      "source": [
        "import pandas as pd\n",
        "pd.set_option('display.max_rows', None)\n",
        "pd.set_option('display.max_columns', None)\n",
        "df = pd.DataFrame({\n",
        "'salesman_id': [5002,5005,5001,5003,5002,5001,5001,5006,5003,5002,5007,5001],\n",
        "'sale_jan':[150.5, 270.65, 65.26, 110.5, 948.5, 2400.6, 1760, 2983.43, 480.4,  1250.45, 75.29,1045.6],\n",
        "'sale_feb':[250.5, 170.65, 15.26, 110.5, 598.5, 1400.6, 2760, 1983.43, 2480.4, 250.45, 75.29, 3045.6],\n",
        "'sale_mar':[150.5, 270.65, 65.26, 110.5, 948.5, 2400.6, 5760, 1983.43, 2480.4, 250.45, 75.29, 3045.6],\n",
        "'sale_apr':[150.5, 270.65, 95.26, 210.5, 948.5, 2400.6, 760, 1983.43, 2480.4, 250.45, 75.29, 3045.6],\n",
        "'sale_may':[130.5, 270.65, 65.26, 310.5, 948.5, 2400.6, 760, 1983.43, 2480.4, 250.45, 75.29, 3045.6],\n",
        "'sale_jun':[150.5, 270.65, 45.26, 110.5, 948.5, 3400.6, 5760, 983.43, 2480.4, 250.45, 75.29, 3045.6],\n",
        "'sale_jul':[950.5, 270.65, 65.26, 210.5, 948.5, 2400.6, 5760, 983.43, 2480.4, 250.45, 75.29, 3045.6],\n",
        "'sale_aug':[150.5, 70.65,  65.26, 110.5, 948.5, 400.6, 5760, 1983.43, 2480.4, 250.45, 75.29, 3045.6],\n",
        "'sale_sep':[150.5, 270.65, 65.26, 110.5, 948.5, 200.6, 5760, 1983.43, 2480.4, 250.45, 75.29, 3045.6],\n",
        "'sale_oct':[150.5, 270.65, 65.26, 110.5, 948.5, 2400.6, 5760, 1983.43, 2480.4, 250.45, 75.29, 3045.6],\n",
        "'sale_nov':[150.5, 270.65, 95.26, 110.5, 948.5, 2400.6, 5760, 1983.43, 2480.4, 250.45, 75.29, 3045.6], \n",
        "'sale_dec':[150.5, 70.65, 65.26, 110.5, 948.5, 2400.6, 5760, 1983.43, 2480.4, 250.45, 75.29, 3045.6]\n",
        "})\n",
        "print(\"Original Orders DataFrame:\")\n",
        "print(df)\n",
        "print(\"\\Result after group on salesman_id and apply different aggregate functions:\")\n",
        "df = df.groupby('salesman_id').agg(lambda x : x.sum() if x.name in ['sale_jan','sale_feb','sale_mar'] else x.mean())\n",
        "print(df)"
      ],
      "metadata": {
        "colab": {
          "base_uri": "https://localhost:8080/"
        },
        "id": "OXUeddZ7z-UX",
        "outputId": "bf900ff6-5ecd-4aa5-f12d-cc73bd4f371d"
      },
      "execution_count": 27,
      "outputs": [
        {
          "output_type": "stream",
          "name": "stdout",
          "text": [
            "Original Orders DataFrame:\n",
            "    salesman_id  sale_jan  sale_feb  sale_mar  sale_apr  sale_may  sale_jun  \\\n",
            "0          5002    150.50    250.50    150.50    150.50    130.50    150.50   \n",
            "1          5005    270.65    170.65    270.65    270.65    270.65    270.65   \n",
            "2          5001     65.26     15.26     65.26     95.26     65.26     45.26   \n",
            "3          5003    110.50    110.50    110.50    210.50    310.50    110.50   \n",
            "4          5002    948.50    598.50    948.50    948.50    948.50    948.50   \n",
            "5          5001   2400.60   1400.60   2400.60   2400.60   2400.60   3400.60   \n",
            "6          5001   1760.00   2760.00   5760.00    760.00    760.00   5760.00   \n",
            "7          5006   2983.43   1983.43   1983.43   1983.43   1983.43    983.43   \n",
            "8          5003    480.40   2480.40   2480.40   2480.40   2480.40   2480.40   \n",
            "9          5002   1250.45    250.45    250.45    250.45    250.45    250.45   \n",
            "10         5007     75.29     75.29     75.29     75.29     75.29     75.29   \n",
            "11         5001   1045.60   3045.60   3045.60   3045.60   3045.60   3045.60   \n",
            "\n",
            "    sale_jul  sale_aug  sale_sep  sale_oct  sale_nov  sale_dec  \n",
            "0     950.50    150.50    150.50    150.50    150.50    150.50  \n",
            "1     270.65     70.65    270.65    270.65    270.65     70.65  \n",
            "2      65.26     65.26     65.26     65.26     95.26     65.26  \n",
            "3     210.50    110.50    110.50    110.50    110.50    110.50  \n",
            "4     948.50    948.50    948.50    948.50    948.50    948.50  \n",
            "5    2400.60    400.60    200.60   2400.60   2400.60   2400.60  \n",
            "6    5760.00   5760.00   5760.00   5760.00   5760.00   5760.00  \n",
            "7     983.43   1983.43   1983.43   1983.43   1983.43   1983.43  \n",
            "8    2480.40   2480.40   2480.40   2480.40   2480.40   2480.40  \n",
            "9     250.45    250.45    250.45    250.45    250.45    250.45  \n",
            "10     75.29     75.29     75.29     75.29     75.29     75.29  \n",
            "11   3045.60   3045.60   3045.60   3045.60   3045.60   3045.60  \n",
            "\\Result after group on salesman_id and apply different aggregate functions:\n",
            "             sale_jan  sale_feb  sale_mar     sale_apr  sale_may     sale_jun  \\\n",
            "salesman_id                                                                     \n",
            "5001          5271.46   7221.46  11271.46  1575.365000  1567.865  3062.865000   \n",
            "5002          2349.45   1099.45   1349.45   449.816667   443.150   449.816667   \n",
            "5003           590.90   2590.90   2590.90  1345.450000  1395.450  1295.450000   \n",
            "5005           270.65    170.65    270.65   270.650000   270.650   270.650000   \n",
            "5006          2983.43   1983.43   1983.43  1983.430000  1983.430   983.430000   \n",
            "5007            75.29     75.29     75.29    75.290000    75.290    75.290000   \n",
            "\n",
            "                sale_jul     sale_aug     sale_sep     sale_oct     sale_nov  \\\n",
            "salesman_id                                                                    \n",
            "5001         2817.865000  2317.865000  2267.865000  2817.865000  2825.365000   \n",
            "5002          716.483333   449.816667   449.816667   449.816667   449.816667   \n",
            "5003         1345.450000  1295.450000  1295.450000  1295.450000  1295.450000   \n",
            "5005          270.650000    70.650000   270.650000   270.650000   270.650000   \n",
            "5006          983.430000  1983.430000  1983.430000  1983.430000  1983.430000   \n",
            "5007           75.290000    75.290000    75.290000    75.290000    75.290000   \n",
            "\n",
            "                sale_dec  \n",
            "salesman_id               \n",
            "5001         2817.865000  \n",
            "5002          449.816667  \n",
            "5003         1295.450000  \n",
            "5005           70.650000  \n",
            "5006         1983.430000  \n",
            "5007           75.290000  \n"
          ]
        }
      ]
    },
    {
      "cell_type": "markdown",
      "source": [
        "28 Write a Pandas program to split a given dataset, group by one column and remove those groups if all the values of a specific columns are not available."
      ],
      "metadata": {
        "id": "SG8KQZCH0GeU"
      }
    },
    {
      "cell_type": "code",
      "source": [
        "import pandas as pd\n",
        "pd.set_option('display.max_rows', None)\n",
        "pd.set_option('display.max_columns', None)\n",
        "df = pd.DataFrame({\n",
        "    'school_code': ['s001','s002','s003','s001','s002','s004'],\n",
        "    'class': ['V', 'V', 'VI', 'VI', 'V', 'VI'],\n",
        "    'name': ['Alberto Franco','Gino Mcneill','Ryan Parkes', 'Eesha Hinton', 'Gino Mcneill', 'David Parkes'],\n",
        "    'date_Of_Birth ': ['15/05/2002','17/05/2002','16/02/1999','25/09/1998','11/05/2002','15/09/1997'],\n",
        "    'age': [12, 12, 13, 13, 14, 12],\n",
        "    'weight': [173, 192, 186, 167, 151, 159],\n",
        "    'height': [35, None, 33, 30, None, 32]},\n",
        "    index=['S1', 'S2', 'S3', 'S4', 'S5', 'S6'])\n",
        "print(\"Original DataFrame:\")\n",
        "print(df)\n",
        "print(\"\\nGroup by one column and remove those groups if all the values of a specific columns are not available:\")\n",
        "result = df[(~df['height'].isna()).groupby(df['school_code']).transform('any')]\n",
        "print(result)"
      ],
      "metadata": {
        "colab": {
          "base_uri": "https://localhost:8080/"
        },
        "id": "VLk1Qur-0HwI",
        "outputId": "ba83e53b-9591-42be-b48f-c655b0bc3552"
      },
      "execution_count": 28,
      "outputs": [
        {
          "output_type": "stream",
          "name": "stdout",
          "text": [
            "Original DataFrame:\n",
            "   school_code class            name date_Of_Birth   age  weight  height\n",
            "S1        s001     V  Alberto Franco     15/05/2002   12     173    35.0\n",
            "S2        s002     V    Gino Mcneill     17/05/2002   12     192     NaN\n",
            "S3        s003    VI     Ryan Parkes     16/02/1999   13     186    33.0\n",
            "S4        s001    VI    Eesha Hinton     25/09/1998   13     167    30.0\n",
            "S5        s002     V    Gino Mcneill     11/05/2002   14     151     NaN\n",
            "S6        s004    VI    David Parkes     15/09/1997   12     159    32.0\n",
            "\n",
            "Group by one column and remove those groups if all the values of a specific columns are not available:\n",
            "   school_code class            name date_Of_Birth   age  weight  height\n",
            "S1        s001     V  Alberto Franco     15/05/2002   12     173    35.0\n",
            "S3        s003    VI     Ryan Parkes     16/02/1999   13     186    33.0\n",
            "S4        s001    VI    Eesha Hinton     25/09/1998   13     167    30.0\n",
            "S6        s004    VI    David Parkes     15/09/1997   12     159    32.0\n"
          ]
        }
      ]
    },
    {
      "cell_type": "markdown",
      "source": [
        "29 Write a Pandas program to split a given dataset using group by on specified column into two labels and ranges. \n",
        "\n",
        "Split the group on 'salesman_id',\n",
        "Ranges:\n",
        "\n",
        "1) (5001...5006)\n",
        "\n",
        "2) (5007..5012)"
      ],
      "metadata": {
        "id": "RoYnwGPA0Luy"
      }
    },
    {
      "cell_type": "code",
      "source": [
        "import pandas as pd\n",
        "import numpy as np\n",
        "pd.set_option('display.max_rows', None)\n",
        "pd.set_option('display.max_columns', None)\n",
        "df = pd.DataFrame({\n",
        "'salesman_id': [5001,5002,5003,5004,5005,5006,5007,5008,5009,5010,5011,5012],\n",
        "'sale_jan':[150.5, 270.65, 65.26, 110.5, 948.5, 2400.6, 1760, 2983.43, 480.4,  1250.45, 75.29,1045.6]})\n",
        "print(\"Original Orders DataFrame:\")\n",
        "print(df)\n",
        "result = df.groupby(pd.cut(df['salesman_id'], \n",
        "                  bins=[0,5006,np.inf],  \n",
        "                  labels=['S1', 'S2']))['sale_jan'].sum().reset_index()\n",
        "print(\"\\nGroupBy with condition of  two labels and ranges:\")\n",
        "print(result)"
      ],
      "metadata": {
        "colab": {
          "base_uri": "https://localhost:8080/"
        },
        "id": "AxuLb2yP0LDd",
        "outputId": "a2ceb8e9-e64f-40e6-ba05-19ba994604fe"
      },
      "execution_count": 29,
      "outputs": [
        {
          "output_type": "stream",
          "name": "stdout",
          "text": [
            "Original Orders DataFrame:\n",
            "    salesman_id  sale_jan\n",
            "0          5001    150.50\n",
            "1          5002    270.65\n",
            "2          5003     65.26\n",
            "3          5004    110.50\n",
            "4          5005    948.50\n",
            "5          5006   2400.60\n",
            "6          5007   1760.00\n",
            "7          5008   2983.43\n",
            "8          5009    480.40\n",
            "9          5010   1250.45\n",
            "10         5011     75.29\n",
            "11         5012   1045.60\n",
            "\n",
            "GroupBy with condition of  two labels and ranges:\n",
            "  salesman_id  sale_jan\n",
            "0          S1   3946.01\n",
            "1          S2   7595.17\n"
          ]
        }
      ]
    },
    {
      "cell_type": "markdown",
      "source": [
        "30 Write a Pandas program to split the following dataset using group by on first column and aggregate over multiple lists on second column."
      ],
      "metadata": {
        "id": "ypKyINv70jZc"
      }
    },
    {
      "cell_type": "code",
      "source": [
        "import pandas as pd\n",
        "import numpy as np\n",
        "pd.set_option('display.max_rows', None)\n",
        "pd.set_option('display.max_columns', None)\n",
        "df = pd.DataFrame({\n",
        "    'student_id': ['S001','S001','S002','S002','S003','S003'],\n",
        "    'marks': [[88,89,90],[78,81,60],[84,83,91],[84,88,91],[90,89,92],[88,59,90]]})\n",
        "print(\"Original DataFrame:\")\n",
        "print(df)\n",
        "print(\"\\nGroupby and aggregate over multiple lists:\")\n",
        "result = df.set_index('student_id')['marks'].groupby('student_id').apply(list).apply(lambda x: np.mean(x,0))\n",
        "print(result)"
      ],
      "metadata": {
        "colab": {
          "base_uri": "https://localhost:8080/"
        },
        "id": "MsY00L750upq",
        "outputId": "dfb61ef3-59f9-452f-9080-a962981741fd"
      },
      "execution_count": 30,
      "outputs": [
        {
          "output_type": "stream",
          "name": "stdout",
          "text": [
            "Original DataFrame:\n",
            "  student_id         marks\n",
            "0       S001  [88, 89, 90]\n",
            "1       S001  [78, 81, 60]\n",
            "2       S002  [84, 83, 91]\n",
            "3       S002  [84, 88, 91]\n",
            "4       S003  [90, 89, 92]\n",
            "5       S003  [88, 59, 90]\n",
            "\n",
            "Groupby and aggregate over multiple lists:\n",
            "student_id\n",
            "S001    [83.0, 85.0, 75.0]\n",
            "S002    [84.0, 85.5, 91.0]\n",
            "S003    [89.0, 74.0, 91.0]\n",
            "Name: marks, dtype: object\n"
          ]
        }
      ]
    },
    {
      "cell_type": "markdown",
      "source": [
        "31 Write a Pandas program to split the following dataset using group by on 'salesman_id' and find the first order date for each group."
      ],
      "metadata": {
        "id": "pHc109Tu00my"
      }
    },
    {
      "cell_type": "code",
      "source": [
        "import pandas as pd\n",
        "pd.set_option('display.max_rows', None)\n",
        "#pd.set_option('display.max_columns', None)\n",
        "df = pd.DataFrame({\n",
        "'ord_no':[70001,70009,70002,70004,70007,70005,70008,70010,70003,70012,70011,70013],\n",
        "'purch_amt':[150.5,270.65,65.26,110.5,948.5,2400.6,5760,1983.43,2480.4,250.45, 75.29,3045.6],\n",
        "'ord_date': ['2012-10-05','2012-09-10','2012-10-05','2012-08-17','2012-09-10','2012-07-27','2012-09-10','2012-10-10','2012-10-10','2012-06-27','2012-08-17','2012-04-25'],\n",
        "'customer_id':[3005,3001,3002,3009,3005,3007,3002,3004,3009,3008,3003,3002],\n",
        "'salesman_id': [5002,5005,5001,5003,5002,5001,5001,5004,5003,5002,5004,5001]})\n",
        "print(\"Original Orders DataFrame:\")\n",
        "print(df)\n",
        "print(\"\\nGroupby to find first order date for each group(salesman_id):\")\n",
        "result = df.groupby('salesman_id')['ord_date'].min()\n",
        "print(result)"
      ],
      "metadata": {
        "colab": {
          "base_uri": "https://localhost:8080/"
        },
        "id": "fYz242gX05NO",
        "outputId": "f716be87-d0cf-4457-e728-f6aeb7556010"
      },
      "execution_count": 31,
      "outputs": [
        {
          "output_type": "stream",
          "name": "stdout",
          "text": [
            "Original Orders DataFrame:\n",
            "    ord_no  purch_amt    ord_date  customer_id  salesman_id\n",
            "0    70001     150.50  2012-10-05         3005         5002\n",
            "1    70009     270.65  2012-09-10         3001         5005\n",
            "2    70002      65.26  2012-10-05         3002         5001\n",
            "3    70004     110.50  2012-08-17         3009         5003\n",
            "4    70007     948.50  2012-09-10         3005         5002\n",
            "5    70005    2400.60  2012-07-27         3007         5001\n",
            "6    70008    5760.00  2012-09-10         3002         5001\n",
            "7    70010    1983.43  2012-10-10         3004         5004\n",
            "8    70003    2480.40  2012-10-10         3009         5003\n",
            "9    70012     250.45  2012-06-27         3008         5002\n",
            "10   70011      75.29  2012-08-17         3003         5004\n",
            "11   70013    3045.60  2012-04-25         3002         5001\n",
            "\n",
            "Groupby to find first order date for each group(salesman_id):\n",
            "salesman_id\n",
            "5001    2012-04-25\n",
            "5002    2012-06-27\n",
            "5003    2012-08-17\n",
            "5004    2012-08-17\n",
            "5005    2012-09-10\n",
            "Name: ord_date, dtype: object\n"
          ]
        }
      ]
    },
    {
      "cell_type": "markdown",
      "source": [
        "32 Write a Pandas program to split a given dataset using group by on multiple columns and drop last n rows of from each group"
      ],
      "metadata": {
        "id": "xBHngPKw1M7V"
      }
    },
    {
      "cell_type": "code",
      "source": [
        "import pandas as pd\n",
        "pd.set_option('display.max_rows', None)\n",
        "#pd.set_option('display.max_columns', None)\n",
        "df = pd.DataFrame({\n",
        "'ord_no':[70001,70009,70002,70004,70007,70005,70008,70010,70003,70012,70011,70013],\n",
        "'purch_amt':[150.5,270.65,65.26,110.5,948.5,2400.6,5760,1983.43,2480.4,250.45, 75.29,3045.6],\n",
        "'ord_date': ['2012-10-05','2012-09-10','2012-10-05','2012-08-17','2012-09-10','2012-07-27','2012-09-10','2012-10-10','2012-10-10','2012-06-27','2012-08-17','2012-04-25'],\n",
        "'customer_id':[3002,3001,3001,3003,3002,3002,3001,3004,3003,3002,3003,3001],\n",
        "'salesman_id':[5002,5003,5001,5003,5002,5001,5001,5003,5003,5002,5003,5001]})\n",
        "print(\"Original Orders DataFrame:\")\n",
        "print(df)\n",
        "print(\"\\nSplit the said data on 'salesman_id', 'customer_id' wise:\")\n",
        "result = df.groupby(['salesman_id', 'customer_id'])\n",
        "for name,group in result:\n",
        "    print(\"\\nGroup:\")\n",
        "    print(name)\n",
        "    print(group)\n",
        "n = 2\n",
        "#result1 = df.groupby(['salesman_id', 'customer_id']).tail(n).index, axis=0)\n",
        "print(\"\\nDroping last two records:\")    \n",
        "result1 = df.drop(df.groupby(['salesman_id', 'customer_id']).tail(n).index, axis=0)\n",
        "print(result1)"
      ],
      "metadata": {
        "id": "3lcHglTR1WQv",
        "outputId": "f71c4d2b-baa5-4ac7-b668-0c2c49e5bda7",
        "colab": {
          "base_uri": "https://localhost:8080/"
        }
      },
      "execution_count": 32,
      "outputs": [
        {
          "output_type": "stream",
          "name": "stdout",
          "text": [
            "Original Orders DataFrame:\n",
            "    ord_no  purch_amt    ord_date  customer_id  salesman_id\n",
            "0    70001     150.50  2012-10-05         3002         5002\n",
            "1    70009     270.65  2012-09-10         3001         5003\n",
            "2    70002      65.26  2012-10-05         3001         5001\n",
            "3    70004     110.50  2012-08-17         3003         5003\n",
            "4    70007     948.50  2012-09-10         3002         5002\n",
            "5    70005    2400.60  2012-07-27         3002         5001\n",
            "6    70008    5760.00  2012-09-10         3001         5001\n",
            "7    70010    1983.43  2012-10-10         3004         5003\n",
            "8    70003    2480.40  2012-10-10         3003         5003\n",
            "9    70012     250.45  2012-06-27         3002         5002\n",
            "10   70011      75.29  2012-08-17         3003         5003\n",
            "11   70013    3045.60  2012-04-25         3001         5001\n",
            "\n",
            "Split the said data on 'salesman_id', 'customer_id' wise:\n",
            "\n",
            "Group:\n",
            "(5001, 3001)\n",
            "    ord_no  purch_amt    ord_date  customer_id  salesman_id\n",
            "2    70002      65.26  2012-10-05         3001         5001\n",
            "6    70008    5760.00  2012-09-10         3001         5001\n",
            "11   70013    3045.60  2012-04-25         3001         5001\n",
            "\n",
            "Group:\n",
            "(5001, 3002)\n",
            "   ord_no  purch_amt    ord_date  customer_id  salesman_id\n",
            "5   70005     2400.6  2012-07-27         3002         5001\n",
            "\n",
            "Group:\n",
            "(5002, 3002)\n",
            "   ord_no  purch_amt    ord_date  customer_id  salesman_id\n",
            "0   70001     150.50  2012-10-05         3002         5002\n",
            "4   70007     948.50  2012-09-10         3002         5002\n",
            "9   70012     250.45  2012-06-27         3002         5002\n",
            "\n",
            "Group:\n",
            "(5003, 3001)\n",
            "   ord_no  purch_amt    ord_date  customer_id  salesman_id\n",
            "1   70009     270.65  2012-09-10         3001         5003\n",
            "\n",
            "Group:\n",
            "(5003, 3003)\n",
            "    ord_no  purch_amt    ord_date  customer_id  salesman_id\n",
            "3    70004     110.50  2012-08-17         3003         5003\n",
            "8    70003    2480.40  2012-10-10         3003         5003\n",
            "10   70011      75.29  2012-08-17         3003         5003\n",
            "\n",
            "Group:\n",
            "(5003, 3004)\n",
            "   ord_no  purch_amt    ord_date  customer_id  salesman_id\n",
            "7   70010    1983.43  2012-10-10         3004         5003\n",
            "\n",
            "Droping last two records:\n",
            "   ord_no  purch_amt    ord_date  customer_id  salesman_id\n",
            "0   70001     150.50  2012-10-05         3002         5002\n",
            "2   70002      65.26  2012-10-05         3001         5001\n",
            "3   70004     110.50  2012-08-17         3003         5003\n"
          ]
        }
      ]
    }
  ]
}